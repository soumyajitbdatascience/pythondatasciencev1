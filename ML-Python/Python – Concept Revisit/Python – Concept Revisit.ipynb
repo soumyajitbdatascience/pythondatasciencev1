{
 "cells": [
  {
   "cell_type": "markdown",
   "id": "b260d80f",
   "metadata": {},
   "source": [
    "# Concept Revisit"
   ]
  },
  {
   "cell_type": "markdown",
   "id": "a87b44c0",
   "metadata": {},
   "source": [
    "# Python Basics"
   ]
  },
  {
   "cell_type": "markdown",
   "id": "0f3c7e48",
   "metadata": {},
   "source": [
    "### Data types\n",
    "Python has several basic data types. Here are a few common ones\n",
    "Integers,Floats,String,Booleans"
   ]
  },
  {
   "cell_type": "markdown",
   "id": "5cbea51e",
   "metadata": {},
   "source": [
    "#### Integers:\n",
    "    Whole numbers, no decimals.\n",
    "    Immutable: Once you create an integer, its value cannot be changed.\n",
    "    Example: Number of players in a cricket team.\n",
    "    "
   ]
  },
  {
   "cell_type": "code",
   "execution_count": 1,
   "id": "25ce29d4",
   "metadata": {},
   "outputs": [
    {
     "name": "stdout",
     "output_type": "stream",
     "text": [
      "11\n"
     ]
    }
   ],
   "source": [
    "cricket_team_players = 11\n",
    "print(cricket_team_players)  # Output: 11\n"
   ]
  },
  {
   "cell_type": "markdown",
   "id": "b3199fd6",
   "metadata": {},
   "source": [
    "#### Floats:\n",
    "    Numbers with decimals.\n",
    "    Immutable: Once you create a float, its value cannot be changed.\n",
    "    Example: Average score of a tennis player."
   ]
  },
  {
   "cell_type": "code",
   "execution_count": 2,
   "id": "ea695008",
   "metadata": {},
   "outputs": [
    {
     "name": "stdout",
     "output_type": "stream",
     "text": [
      "7.85\n"
     ]
    }
   ],
   "source": [
    "tennis_player_avg_score = 7.85\n",
    "print(tennis_player_avg_score)  # Output: 7.85\n"
   ]
  },
  {
   "cell_type": "markdown",
   "id": "b46cff14",
   "metadata": {},
   "source": [
    "#### Strings:\n",
    "    Sequence of characters.\n",
    "    Immutable: Once you create a string, you cannot change its characters.\n",
    "    Example: Name of a badminton player."
   ]
  },
  {
   "cell_type": "code",
   "execution_count": 6,
   "id": "eb854893",
   "metadata": {},
   "outputs": [],
   "source": [
    "my_string='''Ijsjscjncjsnc bsncasncsjoncsjchhasncaso sancianc\n",
    "sncjsnjanasncksancakscn\n",
    "scskncskc'''"
   ]
  },
  {
   "cell_type": "code",
   "execution_count": 10,
   "id": "e352ed24",
   "metadata": {},
   "outputs": [
    {
     "name": "stdout",
     "output_type": "stream",
     "text": [
      "<class 'int'>\n",
      "<class 'str'>\n"
     ]
    }
   ],
   "source": [
    "age=21\n",
    "print(type(age))\n",
    "\n",
    "ti=str(age)\n",
    "print(type(ti))"
   ]
  },
  {
   "cell_type": "code",
   "execution_count": 27,
   "id": "b7ffb404",
   "metadata": {},
   "outputs": [],
   "source": [
    "badminton_player_name = '    Saina Nehewal   '\n",
    "# i=int(badminton_player_name)\n",
    "# print(type(i))  # Output: Saina Nehwal\n"
   ]
  },
  {
   "cell_type": "code",
   "execution_count": 28,
   "id": "971f69d9",
   "metadata": {},
   "outputs": [
    {
     "data": {
      "text/plain": [
       "20"
      ]
     },
     "execution_count": 28,
     "metadata": {},
     "output_type": "execute_result"
    }
   ],
   "source": [
    "len(badminton_player_name)"
   ]
  },
  {
   "cell_type": "code",
   "execution_count": 29,
   "id": "ec6276d1",
   "metadata": {},
   "outputs": [
    {
     "data": {
      "text/plain": [
       "'Saina Nehewal'"
      ]
     },
     "execution_count": 29,
     "metadata": {},
     "output_type": "execute_result"
    }
   ],
   "source": [
    "badminton_player_name.strip()"
   ]
  },
  {
   "cell_type": "code",
   "execution_count": 30,
   "id": "566d4c00",
   "metadata": {},
   "outputs": [
    {
     "data": {
      "text/plain": [
       "['Saina', 'Nehewal']"
      ]
     },
     "execution_count": 30,
     "metadata": {},
     "output_type": "execute_result"
    }
   ],
   "source": [
    "badminton_player_name.split()"
   ]
  },
  {
   "cell_type": "code",
   "execution_count": null,
   "id": "00365917",
   "metadata": {},
   "outputs": [],
   "source": []
  },
  {
   "cell_type": "markdown",
   "id": "fcaddad2",
   "metadata": {},
   "source": [
    "##### Booleans:\n",
    "    Immutable: Once you create a boolean, its value cannot be changed.\n",
    "True or False values.\n",
    "Example: Is the match over?"
   ]
  },
  {
   "cell_type": "code",
   "execution_count": 15,
   "id": "6483ce3d",
   "metadata": {},
   "outputs": [
    {
     "name": "stdout",
     "output_type": "stream",
     "text": [
      "<class 'bool'>\n"
     ]
    }
   ],
   "source": [
    "car=True\n",
    "print(type(car))"
   ]
  },
  {
   "cell_type": "code",
   "execution_count": 18,
   "id": "0df00c31",
   "metadata": {},
   "outputs": [
    {
     "name": "stdout",
     "output_type": "stream",
     "text": [
      "<class 'bool'>\n"
     ]
    }
   ],
   "source": [
    "var=\"money\"==\"currency\"\n",
    "print(type(var))"
   ]
  },
  {
   "cell_type": "code",
   "execution_count": 20,
   "id": "0250af8f",
   "metadata": {},
   "outputs": [
    {
     "data": {
      "text/plain": [
       "bool"
      ]
     },
     "execution_count": 20,
     "metadata": {},
     "output_type": "execute_result"
    }
   ],
   "source": [
    "i=1==True\n",
    "type(i)"
   ]
  },
  {
   "cell_type": "markdown",
   "id": "e69f7f83",
   "metadata": {},
   "source": [
    "### 1. Download Anaconda:\n",
    "Go to the Anaconda website(https://docs.anaconda.com/anaconda/install/windows/).\n",
    "\n",
    "Click on Download based on your operating system (Windows, macOS, or Linux).\n",
    "\n",
    "Choose the Python 3.x version and download the installer.\n",
    "#### 2. Install Anaconda:\n",
    "Windows:\n",
    "Double-click the downloaded .exe file.\n",
    "\n",
    "Follow the installer instructions, and select options like \"Add Anaconda to PATH\" (recommended) and \"Register Anaconda as the default Python\" (optional).\n",
    "\n",
    "macOS/Linux:\n",
    "Open a terminal and run the installer script:\n",
    "\n",
    "### 3. Verify Installation:\n",
    "Open a terminal (or Anaconda Prompt for Windows).\n",
    "\n",
    "Type conda --version to verify the installation.\n",
    "\n",
    "\n",
    "### 4. Create a Virtual Environment:\n",
    "Open your terminal or Anaconda Prompt.\n",
    "\n",
    "Create a new environment with a specific Python version:\n",
    "\n",
    "#### conda create --name myenv python=3.x\n",
    "\n",
    "Replace myenv with your desired environment name and 3.x with the Python version you need.\n",
    "\n",
    "Activate the environment:\n",
    "Windows:\n",
    "\n",
    "#### conda activate myenv\n",
    "\n",
    "macOS/Linux:\n",
    "\n",
    "source activate myenv\n",
    "\n",
    "#### source activate myenv\n",
    "Install additional packages (if needed):\n",
    "\n",
    "\n",
    "conda install numpy pandas\n",
    "### 5. Deactivate the Environment:\n",
    "To leave the environment, use:\n",
    "\n",
    "conda deactivate"
   ]
  },
  {
   "cell_type": "code",
   "execution_count": null,
   "id": "638ed4c0",
   "metadata": {},
   "outputs": [],
   "source": [
    "is_match_over = True\n",
    "print(is_match_over)  # Output: True\n"
   ]
  },
  {
   "cell_type": "markdown",
   "id": "5461d51a",
   "metadata": {},
   "source": [
    "### Lists\n",
    "    A list is a collection of items in a particular order.\n",
    "    Example: List of cricket team players.\n",
    "    \n",
    "    Ordered: The items in a list have a specific order, and you can access them using an index (position).\n",
    "    Mutable: You can change the items in a list (add, remove, or modify).\n",
    "    Allows Duplicates: Lists can have multiple items with the same value."
   ]
  },
  {
   "cell_type": "code",
   "execution_count": null,
   "id": "83848cc8",
   "metadata": {},
   "outputs": [],
   "source": [
    "cricket_team = [\"Virat\", \"Rohit\", \"Dhoni\", \"Rahul\", \"Jadeja\", \"Shami\", \"Bumrah\", \"Pant\", \"Iyer\", \"Kuldeep\", \"Pandya\"]\n",
    "print(cricket_team)  # Output: ['Virat', 'Rohit', 'Dhoni', 'Rahul', 'Jadeja', 'Shami', 'Bumrah', 'Pant', 'Iyer', 'Kuldeep', 'Pandya']\n",
    "\n"
   ]
  },
  {
   "cell_type": "code",
   "execution_count": 4,
   "id": "972cb698",
   "metadata": {},
   "outputs": [
    {
     "data": {
      "text/plain": [
       "['one', [1, [12, 14], 3], 4]"
      ]
     },
     "execution_count": 4,
     "metadata": {},
     "output_type": "execute_result"
    }
   ],
   "source": [
    "play=[\"one\",1,2,98.6]\n",
    "\n",
    "play2=[\"one\",[1,[12,14],3],4]\n",
    "\n",
    "play2"
   ]
  },
  {
   "cell_type": "code",
   "execution_count": 7,
   "id": "f1386acd",
   "metadata": {},
   "outputs": [
    {
     "data": {
      "text/plain": [
       "284"
      ]
     },
     "execution_count": 7,
     "metadata": {},
     "output_type": "execute_result"
    }
   ],
   "source": [
    "my_list=[12, 13, 45, 34, 12, 19, 95, 54]\n",
    "sum(my_list)"
   ]
  },
  {
   "cell_type": "code",
   "execution_count": 12,
   "id": "8561889a",
   "metadata": {},
   "outputs": [
    {
     "data": {
      "text/plain": [
       "95"
      ]
     },
     "execution_count": 12,
     "metadata": {},
     "output_type": "execute_result"
    }
   ],
   "source": [
    "min(my_list)\n"
   ]
  },
  {
   "cell_type": "code",
   "execution_count": 13,
   "id": "58b4277d",
   "metadata": {},
   "outputs": [
    {
     "data": {
      "text/plain": [
       "95"
      ]
     },
     "execution_count": 13,
     "metadata": {},
     "output_type": "execute_result"
    }
   ],
   "source": [
    "max(my_list)"
   ]
  },
  {
   "cell_type": "code",
   "execution_count": 23,
   "id": "a29974a8",
   "metadata": {},
   "outputs": [
    {
     "name": "stdout",
     "output_type": "stream",
     "text": [
      "before the sorting [12, 13, 45, 34, 56, 12, 19, 95, 54, 342]\n"
     ]
    },
    {
     "data": {
      "text/plain": [
       "[12, 12, 13, 19, 34, 45, 54, 56, 95, 342]"
      ]
     },
     "execution_count": 23,
     "metadata": {},
     "output_type": "execute_result"
    }
   ],
   "source": [
    "print(\"before the sorting\",my_list)\n",
    "sorted(my_list)"
   ]
  },
  {
   "cell_type": "code",
   "execution_count": 20,
   "id": "37a7f263",
   "metadata": {},
   "outputs": [],
   "source": [
    "my_list.append(342)"
   ]
  },
  {
   "cell_type": "code",
   "execution_count": 22,
   "id": "950ed5cd",
   "metadata": {},
   "outputs": [],
   "source": [
    "my_list.insert(4,56)"
   ]
  },
  {
   "cell_type": "code",
   "execution_count": 26,
   "id": "ba635ae6",
   "metadata": {},
   "outputs": [
    {
     "data": {
      "text/plain": [
       "19"
      ]
     },
     "execution_count": 26,
     "metadata": {},
     "output_type": "execute_result"
    }
   ],
   "source": [
    "my_list.pop(6)"
   ]
  },
  {
   "cell_type": "code",
   "execution_count": 28,
   "id": "5b3c8061",
   "metadata": {},
   "outputs": [
    {
     "data": {
      "text/plain": [
       "[12, 13, 45, 34, 56, 12, 95, 54]"
      ]
     },
     "execution_count": 28,
     "metadata": {},
     "output_type": "execute_result"
    }
   ],
   "source": [
    "my_list"
   ]
  },
  {
   "cell_type": "code",
   "execution_count": 27,
   "id": "b518c023",
   "metadata": {},
   "outputs": [
    {
     "data": {
      "text/plain": [
       "6"
      ]
     },
     "execution_count": 27,
     "metadata": {},
     "output_type": "execute_result"
    }
   ],
   "source": [
    "my_list.index(95)"
   ]
  },
  {
   "cell_type": "code",
   "execution_count": null,
   "id": "9889dfce",
   "metadata": {},
   "outputs": [],
   "source": []
  },
  {
   "cell_type": "code",
   "execution_count": null,
   "id": "5f8dea29",
   "metadata": {},
   "outputs": [],
   "source": [
    "range(start,end,step)"
   ]
  },
  {
   "cell_type": "code",
   "execution_count": 31,
   "id": "d96c4f53",
   "metadata": {
    "scrolled": true
   },
   "outputs": [
    {
     "name": "stdout",
     "output_type": "stream",
     "text": [
      "[13, 45, 19, 95] [12, 34, 12, 54]\n"
     ]
    }
   ],
   "source": [
    "my_list=[12, 13, 45, 34, 12, 19, 95, 54]\n",
    "\n",
    "#wap two separate list \n",
    "odd=[]\n",
    "even=[]\n",
    "\n",
    "for i in my_list:\n",
    "    if i%2==0:\n",
    "        even.append(i)\n",
    "    else:\n",
    "        odd.append(i)\n",
    "print(odd,even)\n",
    "\n",
    "\n"
   ]
  },
  {
   "cell_type": "code",
   "execution_count": 39,
   "id": "3b15bf4b",
   "metadata": {},
   "outputs": [
    {
     "name": "stdout",
     "output_type": "stream",
     "text": [
      "S --- 1\n",
      "H --- 1\n",
      "W --- 1\n",
      "E --- 1\n",
      "T --- 1\n",
      "A --- 3\n",
      "  --- 5\n",
      "B --- 1\n",
      "A --- 3\n",
      "Y --- 2\n",
      "Y --- 2\n",
      "A --- 3\n",
      "  --- 5\n",
      "@ --- 2\n",
      "  --- 5\n",
      "c --- 1\n",
      "h --- 1\n",
      "i --- 2\n",
      "n --- 1\n",
      "m --- 2\n",
      "a --- 3\n",
      "y --- 2\n",
      "a --- 3\n",
      "  --- 5\n",
      "@ --- 2\n",
      "  --- 5\n",
      "s --- 1\n",
      "o --- 1\n",
      "u --- 1\n",
      "m --- 2\n",
      "y --- 2\n",
      "a --- 3\n",
      "j --- 1\n",
      "i --- 2\n",
      "t --- 1\n"
     ]
    }
   ],
   "source": [
    "\n",
    "\n",
    "for i in my_string:\n",
    "    print(i,\"---\",list(my_string).count(i))\n",
    "    \n",
    "\n",
    "\n"
   ]
  },
  {
   "cell_type": "code",
   "execution_count": 41,
   "id": "a8e5c8ee",
   "metadata": {},
   "outputs": [
    {
     "data": {
      "text/plain": [
       "'tijaymuos @ ayamnihc @ AYYAB ATEWHS'"
      ]
     },
     "execution_count": 41,
     "metadata": {},
     "output_type": "execute_result"
    }
   ],
   "source": [
    "my_string[::-1]"
   ]
  },
  {
   "cell_type": "code",
   "execution_count": null,
   "id": "83ec7669",
   "metadata": {},
   "outputs": [],
   "source": [
    "my_string=\"SHWETA BAYYA @ chinmaya @ soumyajit\""
   ]
  },
  {
   "cell_type": "code",
   "execution_count": 95,
   "id": "8e161646",
   "metadata": {},
   "outputs": [
    {
     "data": {
      "text/plain": [
       "'SHW'"
      ]
     },
     "execution_count": 95,
     "metadata": {},
     "output_type": "execute_result"
    }
   ],
   "source": [
    "my_string[:3:1]"
   ]
  },
  {
   "cell_type": "code",
   "execution_count": null,
   "id": "84a7f7b8",
   "metadata": {},
   "outputs": [],
   "source": [
    "my_string[:3:1]"
   ]
  },
  {
   "cell_type": "code",
   "execution_count": null,
   "id": "4546ea0d",
   "metadata": {},
   "outputs": [],
   "source": [
    "[\"start\",\"range\",\"step\"]"
   ]
  },
  {
   "cell_type": "code",
   "execution_count": 40,
   "id": "508c1faf",
   "metadata": {},
   "outputs": [
    {
     "data": {
      "text/plain": [
       "['SHWETA', 'BAYYA', '@', 'chinmaya', '@', 'soumyajit']"
      ]
     },
     "execution_count": 40,
     "metadata": {},
     "output_type": "execute_result"
    }
   ],
   "source": [
    "my_string.split()"
   ]
  },
  {
   "cell_type": "code",
   "execution_count": null,
   "id": "5f9c8d08",
   "metadata": {},
   "outputs": [],
   "source": [
    "DIFFERENCE BETWEEN STRING AND LIST??\n",
    "\n",
    "STRING IS IMMUTABEL\n",
    "LIST IS MUTABLE"
   ]
  },
  {
   "cell_type": "code",
   "execution_count": 28,
   "id": "18ebc36c",
   "metadata": {},
   "outputs": [
    {
     "data": {
      "text/plain": [
       "[12, 19, 95, 54, 13, 45, 34]"
      ]
     },
     "execution_count": 28,
     "metadata": {},
     "output_type": "execute_result"
    }
   ],
   "source": [
    "play2"
   ]
  },
  {
   "cell_type": "code",
   "execution_count": null,
   "id": "b1e16f7f",
   "metadata": {},
   "outputs": [],
   "source": [
    "\n",
    "players = [\"Virat\", \"Rohit\", \"Dhoni\"]\n",
    "print(players[0])  # Output: Virat (access the first item)\n",
    "players.append(\"Rahul\")  # Add a new item\n",
    "print(players)  # Output: ['Virat', 'Rohit', 'Dhoni', 'Rahul']\n",
    "players[1] = \"Sharma\"  # Change an item\n",
    "print(players)  # Output: ['Virat', 'Sharma', 'Dhoni', 'Rahul']"
   ]
  },
  {
   "cell_type": "code",
   "execution_count": null,
   "id": "c25798b6",
   "metadata": {},
   "outputs": [],
   "source": [
    "[[100,10000,1000]\n",
    "[100,260,120]]"
   ]
  },
  {
   "cell_type": "code",
   "execution_count": null,
   "id": "a4038c72",
   "metadata": {},
   "outputs": [],
   "source": [
    "{\"names\":[\"ram\",\"sam\"],\"age\":[10,12]}"
   ]
  },
  {
   "cell_type": "code",
   "execution_count": null,
   "id": "9ec19435",
   "metadata": {},
   "outputs": [],
   "source": [
    "{\"agent\":\"\",\"actor\":\"\"}"
   ]
  },
  {
   "cell_type": "markdown",
   "id": "4a048e63",
   "metadata": {},
   "source": [
    "### Selection by Position\n",
    "This involves selecting elements from a sequence based on their position."
   ]
  },
  {
   "cell_type": "code",
   "execution_count": null,
   "id": "b56622d0",
   "metadata": {},
   "outputs": [],
   "source": [
    "tennis_players = [\"Nadal\", \"Federer\", \"Djokovic\", \"Murray\"]\n",
    "second_player = tennis_players[1]\n",
    "print(second_player)  # Output: Federer\n"
   ]
  },
  {
   "cell_type": "markdown",
   "id": "1a29f84a",
   "metadata": {},
   "source": [
    "### Slicing\n",
    "    Slicing allows you to get a part of the list.\n",
    "\n",
    "    Example: Get the names of the first three players in the cricket team."
   ]
  },
  {
   "cell_type": "code",
   "execution_count": null,
   "id": "0648cc00",
   "metadata": {},
   "outputs": [],
   "source": [
    "first_three_players = cricket_team[:3]\n",
    "print(first_three_players)  # Output: ['Virat', 'Rohit', 'Dhoni']\n"
   ]
  },
  {
   "cell_type": "markdown",
   "id": "102c6f23",
   "metadata": {},
   "source": [
    "### Dictionaries\n",
    "    Dictionaries store data in key-value pairs.\n",
    "    Example: Store scores of players in a tennis match.\n",
    "\n",
    "    Unordered: The items in a dictionary do not have a specific order, but you can access them using a key.\n",
    "\n",
    "    Mutable: You can change the items in a dictionary (add, remove, or modify\n",
    "\n",
    "    Keys Must Be Unique: Each key in a dictionary must be unique, but values can be duplicated."
   ]
  },
  {
   "cell_type": "code",
   "execution_count": null,
   "id": "0af64afe",
   "metadata": {},
   "outputs": [],
   "source": [
    "{\"key\":\"value\"}"
   ]
  },
  {
   "cell_type": "code",
   "execution_count": 36,
   "id": "d8c3dfe1",
   "metadata": {},
   "outputs": [
    {
     "data": {
      "text/plain": [
       "12"
      ]
     },
     "execution_count": 36,
     "metadata": {},
     "output_type": "execute_result"
    }
   ],
   "source": [
    "my_list[0]"
   ]
  },
  {
   "cell_type": "code",
   "execution_count": 53,
   "id": "cea5bf61",
   "metadata": {},
   "outputs": [
    {
     "name": "stdout",
     "output_type": "stream",
     "text": [
      "{'Murray': 5, 'Federer': {'first': 10, 'second': 13}, 'Djokovic': 7}\n"
     ]
    }
   ],
   "source": [
    "tennis_scores = {\n",
    "    \"Murray\": '',\n",
    "    \"Federer\": {\"first\":10,\"second\":13},\n",
    "    \"Djokovic\": 7,\n",
    "    \"Murray\": 5\n",
    "}\n",
    "print(tennis_scores)  # Output: {'Nadal': 6, 'Federer': 4, 'Djokovic': 7, 'Murray': 5}\n",
    "\n",
    "# Accessing Nadal's score\n",
    "  # Output: 6\n"
   ]
  },
  {
   "cell_type": "code",
   "execution_count": 39,
   "id": "3ffe19db",
   "metadata": {},
   "outputs": [],
   "source": [
    "tennis_scores[\"william\"]=10"
   ]
  },
  {
   "cell_type": "code",
   "execution_count": 68,
   "id": "b6140678",
   "metadata": {},
   "outputs": [
    {
     "ename": "KeyError",
     "evalue": "0",
     "output_type": "error",
     "traceback": [
      "\u001b[1;31m---------------------------------------------------------------------------\u001b[0m",
      "\u001b[1;31mKeyError\u001b[0m                                  Traceback (most recent call last)",
      "\u001b[1;32m<ipython-input-68-e6f7fee54195>\u001b[0m in \u001b[0;36m<module>\u001b[1;34m\u001b[0m\n\u001b[1;32m----> 1\u001b[1;33m \u001b[0mtennis_scores\u001b[0m\u001b[1;33m[\u001b[0m\u001b[1;36m0\u001b[0m\u001b[1;33m]\u001b[0m\u001b[1;33m\u001b[0m\u001b[1;33m\u001b[0m\u001b[0m\n\u001b[0m",
      "\u001b[1;31mKeyError\u001b[0m: 0"
     ]
    }
   ],
   "source": [
    "tennis_scores[0]"
   ]
  },
  {
   "cell_type": "code",
   "execution_count": 55,
   "id": "23236156",
   "metadata": {},
   "outputs": [
    {
     "name": "stdout",
     "output_type": "stream",
     "text": [
      "10\n"
     ]
    }
   ],
   "source": [
    "print(tennis_scores[\"Federer\"][\"first\"])"
   ]
  },
  {
   "cell_type": "code",
   "execution_count": 56,
   "id": "191ef386",
   "metadata": {},
   "outputs": [
    {
     "data": {
      "text/plain": [
       "False"
      ]
     },
     "execution_count": 56,
     "metadata": {},
     "output_type": "execute_result"
    }
   ],
   "source": [
    "my_dict={\"house1\":10000,\"house2\":123400}\n",
    "my_dict['house1']>my_dict['house2']\n"
   ]
  },
  {
   "cell_type": "markdown",
   "id": "d24a2a79",
   "metadata": {},
   "source": [
    "### Sets (set)\n",
    "\n",
    "    Unordered: The items in a set do not have a specific order, and you cannot access them using an index.\n",
    "    \n",
    "    Mutable: You can change the items in a set (add or remove items).\n",
    "    \n",
    "    No Duplicates: Sets automatically remove duplicate items."
   ]
  },
  {
   "cell_type": "code",
   "execution_count": 59,
   "id": "b0dfd03d",
   "metadata": {},
   "outputs": [
    {
     "data": {
      "text/plain": [
       "{'house1', 'house2'}"
      ]
     },
     "execution_count": 59,
     "metadata": {},
     "output_type": "execute_result"
    }
   ],
   "source": [
    "my_L=[12,23,12,45,23,98,101,234]\n",
    "set(my_dict)"
   ]
  },
  {
   "cell_type": "code",
   "execution_count": 61,
   "id": "7a38e787",
   "metadata": {},
   "outputs": [
    {
     "data": {
      "text/plain": [
       "{'All England', 'Olympics', 'World Championships'}"
      ]
     },
     "execution_count": 61,
     "metadata": {},
     "output_type": "execute_result"
    }
   ],
   "source": [
    "tournaments = {\"All England\", \"World Championships\", \"Olympics\"}\n",
    "tournaments"
   ]
  },
  {
   "cell_type": "code",
   "execution_count": 63,
   "id": "20d384a5",
   "metadata": {},
   "outputs": [
    {
     "data": {
      "text/plain": [
       "{'All England', 'Olympics', 'Thomas Cup', 'World Championships'}"
      ]
     },
     "execution_count": 63,
     "metadata": {},
     "output_type": "execute_result"
    }
   ],
   "source": [
    "tournaments.add(\"Thomas Cup\")  \n",
    "tournaments"
   ]
  },
  {
   "cell_type": "code",
   "execution_count": 67,
   "id": "87de66cd",
   "metadata": {},
   "outputs": [
    {
     "ename": "KeyError",
     "evalue": "'World Championships'",
     "output_type": "error",
     "traceback": [
      "\u001b[1;31m---------------------------------------------------------------------------\u001b[0m",
      "\u001b[1;31mKeyError\u001b[0m                                  Traceback (most recent call last)",
      "\u001b[1;32m<ipython-input-67-a80b2082856d>\u001b[0m in \u001b[0;36m<module>\u001b[1;34m\u001b[0m\n\u001b[1;32m----> 1\u001b[1;33m \u001b[0mtournaments\u001b[0m\u001b[1;33m.\u001b[0m\u001b[0mremove\u001b[0m\u001b[1;33m(\u001b[0m\u001b[1;34m\"World Championships\"\u001b[0m\u001b[1;33m)\u001b[0m\u001b[1;33m\u001b[0m\u001b[1;33m\u001b[0m\u001b[0m\n\u001b[0m",
      "\u001b[1;31mKeyError\u001b[0m: 'World Championships'"
     ]
    }
   ],
   "source": [
    "tournaments.remove(\"World Championships\")"
   ]
  },
  {
   "cell_type": "code",
   "execution_count": 69,
   "id": "c5e41834",
   "metadata": {},
   "outputs": [
    {
     "data": {
      "text/plain": [
       "{'lenovo', 'mac', 'window'}"
      ]
     },
     "execution_count": 69,
     "metadata": {},
     "output_type": "execute_result"
    }
   ],
   "source": [
    "c_list=[\"lenovo\",\"mac\",\"window\",\"mac\"]\n",
    "\n",
    "set(c_list)\n"
   ]
  },
  {
   "cell_type": "code",
   "execution_count": 74,
   "id": "d3dfb1bc",
   "metadata": {},
   "outputs": [],
   "source": [
    "my_dicy1={}"
   ]
  },
  {
   "cell_type": "code",
   "execution_count": 77,
   "id": "d9dc686e",
   "metadata": {},
   "outputs": [
    {
     "data": {
      "text/plain": [
       "{'first': {'lenovo', 'mac', 'window'}}"
      ]
     },
     "execution_count": 77,
     "metadata": {},
     "output_type": "execute_result"
    }
   ],
   "source": [
    "my_dicy1"
   ]
  },
  {
   "cell_type": "code",
   "execution_count": 76,
   "id": "712914f6",
   "metadata": {},
   "outputs": [],
   "source": [
    "my_dicy1[\"first\"]=set(c_list)"
   ]
  },
  {
   "cell_type": "code",
   "execution_count": null,
   "id": "7efc3e09",
   "metadata": {},
   "outputs": [],
   "source": [
    "\n",
    "tournaments.add(\"Thomas Cup\")  # Add a new item\n",
    "print(tournaments)  # Output: {'All England', 'Olympics', 'World Championships', 'Thomas Cup'}\n",
    "tournaments.remove(\"Olympics\")  # Remove an item\n",
    "print(tournaments)  # Output: {'All England', 'World Championships', 'Thomas Cup'}\n",
    "tournaments.add(\"All England\")  # Adding a duplicate has no effect\n",
    "print(tournaments)  # Output: {'All England', 'World Championships', 'Thomas Cup'}\n"
   ]
  },
  {
   "cell_type": "markdown",
   "id": "c96b58ee",
   "metadata": {},
   "source": [
    "### Tuples\n",
    "    Tuples are like lists but are immutable (cannot be changed). \n",
    "\n",
    "    Example: Store the coordinates of the corners of a badminton court.\n",
    "\n",
    "    Ordered: The items in a tuple have a specific order, and you can access them using an index.\n",
    "    Immutable: Once you create a tuple, you cannot change its items.\n",
    "    Allows Duplicates: Tuples can have multiple items with the same value."
   ]
  },
  {
   "cell_type": "code",
   "execution_count": null,
   "id": "37962850",
   "metadata": {},
   "outputs": [],
   "source": [
    "court_corners = ((0, 0), (0, 20), (10, 0), (10, 20))\n",
    "print(court_corners)  # Output: ((0, 0), (0, 20), (10, 0), (10, 20))\n",
    "\n",
    "# Accessing the first corner\n",
    "print(court_corners[0])  # Output: (0, 0)\n"
   ]
  },
  {
   "cell_type": "code",
   "execution_count": 84,
   "id": "43483b66",
   "metadata": {},
   "outputs": [],
   "source": [
    "my_tuple=(\"jan\",\"feb\",\"mar\",\"apr\",\"may\",\"jun\",\"jul\",\"aug\",\"sep\",\"oct\",\"nov\",\"dec\")\n",
    "# my_tuple.add(\"sunday\")"
   ]
  },
  {
   "cell_type": "code",
   "execution_count": 85,
   "id": "9ec1520a",
   "metadata": {},
   "outputs": [
    {
     "data": {
      "text/plain": [
       "'nov'"
      ]
     },
     "execution_count": 85,
     "metadata": {},
     "output_type": "execute_result"
    }
   ],
   "source": [
    "my_tuple[10]"
   ]
  },
  {
   "cell_type": "code",
   "execution_count": null,
   "id": "dcd62a59",
   "metadata": {},
   "outputs": [],
   "source": [
    "match_stats = (\"Roger Federer\", 3, 120.5)\n",
    "print(match_stats[0])  # Output: Roger Federer (access the first item)\n",
    "# match_stats[1] = 2  # This will cause an error because tuples are immutable\n"
   ]
  },
  {
   "cell_type": "markdown",
   "id": "293d6a59",
   "metadata": {},
   "source": [
    "### IF Statements\n",
    "    IF statements allow you to execute a block of code based on a condition.\n",
    "\n",
    "    Example: Check if a player is in the cricket team.\n"
   ]
  },
  {
   "cell_type": "code",
   "execution_count": null,
   "id": "306d3dda",
   "metadata": {},
   "outputs": [],
   "source": [
    "player_to_check = \"Dhoni\"\n",
    "if player_to_check in cricket_team:\n",
    "    print(f\"{player_to_check} is in the team!\")  # Output: Dhoni is in the team!\n",
    "else:\n",
    "    print(f\"{player_to_check} is not in the team!\")\n"
   ]
  },
  {
   "cell_type": "markdown",
   "id": "991db827",
   "metadata": {},
   "source": [
    "### Loops\n",
    "    Loops allow you to execute a block of code multiple times.\n",
    "#### Types of Loops in Python\n",
    "     For Loop   \n",
    "     While Loop\n",
    "   "
   ]
  },
  {
   "cell_type": "markdown",
   "id": "a227c618",
   "metadata": {},
   "source": [
    "### For Loop\n",
    "A for loop is used for iterating over a sequence (such as a list, tuple, dictionary, set, or string).\n",
    "\n",
    "Example 1: Simple For Loop\n",
    "Let's say we want to print the numbers from 1 to 5."
   ]
  },
  {
   "cell_type": "code",
   "execution_count": null,
   "id": "af904559",
   "metadata": {},
   "outputs": [],
   "source": [
    "for i in range(1, 6):  # range(1, 6) generates numbers from 1 to 5\n",
    "    print(i)"
   ]
  },
  {
   "cell_type": "markdown",
   "id": "4c17a925",
   "metadata": {},
   "source": [
    "range(1, 6) generates a sequence of numbers from 1 to 5.\n",
    "\n",
    "The for loop iterates over each number in this sequence and prints it.\n",
    "\n",
    "Now, let's say we have a list of players in a cricket match"
   ]
  },
  {
   "cell_type": "code",
   "execution_count": null,
   "id": "f9e5e3be",
   "metadata": {},
   "outputs": [],
   "source": [
    "for player in cricket_team:\n",
    "    print(player)\n",
    "# Output:\n",
    "# Virat\n",
    "# Rohit\n",
    "# Dhoni\n",
    "# Rahul\n",
    "# Jadeja\n",
    "# Shami\n",
    "# Bumrah\n",
    "# Pant\n",
    "# Iyer\n",
    "# Kuldeep\n",
    "# Pandya\n"
   ]
  },
  {
   "cell_type": "markdown",
   "id": "347ac6c2",
   "metadata": {},
   "source": [
    "Now, let's say we have a list of scores in a cricket match and we want to calculate the total score."
   ]
  },
  {
   "cell_type": "code",
   "execution_count": null,
   "id": "9940f08c",
   "metadata": {},
   "outputs": [],
   "source": [
    "scores = [10, 20, 30, 40, 50]\n",
    "total_score = 0\n",
    "\n",
    "for score in scores:\n",
    "    total_score += score  # Add each score to total_score\n",
    "\n",
    "print(f\"Total Score: {total_score}\")\n"
   ]
  },
  {
   "cell_type": "markdown",
   "id": "4858fe57",
   "metadata": {},
   "source": [
    "### While Loop\n",
    "    A while loop repeatedly executes a block of code as long as a given condition is True.\n",
    "\n",
    "    Example 3: Simple While Loop\n",
    "\n",
    "    Let's print the numbers from 1 to 5 using a while loop."
   ]
  },
  {
   "cell_type": "code",
   "execution_count": null,
   "id": "bd66a7cd",
   "metadata": {},
   "outputs": [],
   "source": [
    "i = 1\n",
    "while i <= 5:\n",
    "    print(i)\n",
    "    i += 1  # Increment i by 1"
   ]
  },
  {
   "cell_type": "markdown",
   "id": "04ffac57",
   "metadata": {},
   "source": [
    "    We initialize i to 1.\n",
    "\n",
    "    The while loop checks if i is less than or equal to 5.\n",
    "\n",
    "    If the condition is True, it prints i and then increments i by 1.\n",
    "\n",
    "    The loop continues until i becomes 6, at which point the condition becomes False and the loop stops."
   ]
  },
  {
   "cell_type": "code",
   "execution_count": null,
   "id": "910e1cc2",
   "metadata": {},
   "outputs": [],
   "source": [
    "#Let's calculate the sum of numbers from 1 to 5 using a while loop.\n",
    "\n",
    "i = 1\n",
    "total_sum = 0\n",
    "\n",
    "while i <= 5:\n",
    "    total_sum += i  # Add i to total_sum\n",
    "    i += 1  # Increment i by 1\n",
    "\n",
    "print(f\"Total Sum: {total_sum}\")\n"
   ]
  },
  {
   "cell_type": "markdown",
   "id": "719ecade",
   "metadata": {},
   "source": [
    "### Combining Loops with Conditional Statements"
   ]
  },
  {
   "cell_type": "code",
   "execution_count": null,
   "id": "d2fdde87",
   "metadata": {},
   "outputs": [],
   "source": [
    "\n",
    "\n",
    "for i in range(1, 11):\n",
    "    if i % 2 == 0:  # Check if the number is even\n",
    "        print(i)\n",
    "        \n",
    "# The for loop iterates over numbers from 1 to 10.\n",
    "# The if statement checks if the number i is even (i % 2 == 0).\n",
    "# If the condition is True, it prints the number.\n",
    "\n"
   ]
  },
  {
   "cell_type": "markdown",
   "id": "951c27a8",
   "metadata": {},
   "source": [
    "### Loop with Break Statement"
   ]
  },
  {
   "cell_type": "code",
   "execution_count": null,
   "id": "b5dd915b",
   "metadata": {},
   "outputs": [],
   "source": [
    "# Let's find the first number greater than 50 in a list of scores and stop checking once we find it.\n",
    "scores = [10, 20, 30, 40, 60, 70]\n",
    "i = 0\n",
    "\n",
    "while i < len(scores):\n",
    "    if scores[i] > 50:\n",
    "        print(f\"First score greater than 50: {scores[i]}\")\n",
    "        break  # Exit the loop when the condition is met\n",
    "    i += 1\n"
   ]
  },
  {
   "cell_type": "markdown",
   "id": "434aae41",
   "metadata": {},
   "source": [
    "    We initialize i to 0.\n",
    "\n",
    "    The while loop checks if i is less than the length of the scores list.\n",
    "\n",
    "    The if statement checks if the current score is greater than 50.\n",
    "\n",
    "    If the condition is True, it prints the score and breaks out of the loop.\n",
    "\n",
    "    If the condition is False, it increments i by 1 and continues the loop."
   ]
  },
  {
   "cell_type": "markdown",
   "id": "528cceed",
   "metadata": {},
   "source": [
    "### List Comprehensions in Python\n",
    "\n",
    "    List comprehensions provide a concise way to create lists. They consist of brackets containing an expression followed       by a for clause, then zero or more for or if clauses. The result will be a new list resulting from evaluating the           expression in the context of the for and if clauses which follow it."
   ]
  },
  {
   "cell_type": "markdown",
   "id": "a63dc747",
   "metadata": {},
   "source": [
    "    Basic Syntax\n",
    "    \n",
    "     new_list = [expression for item in iterable if condition]\n",
    "\n",
    "    -expression is the item to be added to the new list.\n",
    "\n",
    "    -iterable is any sequence (like a list, tuple, dictionary, set, etc.).\n",
    "\n",
    "    -condition is optional; if provided, it filters items from the iterable."
   ]
  },
  {
   "cell_type": "code",
   "execution_count": null,
   "id": "3a2b288e",
   "metadata": {},
   "outputs": [],
   "source": [
    "# Let's create a list of squared numbers from another list of integers.\n",
    "\n",
    "numbers = [1, 2, 3, 4, 5]\n",
    "squared_numbers = [n**2 for n in numbers]\n",
    "print(squared_numbers)  # Output: [1, 4, 9, 16, 25]\n",
    "\n"
   ]
  },
  {
   "cell_type": "code",
   "execution_count": null,
   "id": "08081592",
   "metadata": {},
   "outputs": [],
   "source": [
    "# Convert a tuple of temperatures in Celsius to Fahrenheit.\n",
    "\n",
    "\n",
    "celsius = (0, 10, 20, 30, 40)\n",
    "fahrenheit = [(temp * 9/5) + 32 for temp in celsius]\n",
    "print(fahrenheit)  # Output: [32.0, 50.0, 68.0, 86.0, 104.0]\n"
   ]
  },
  {
   "cell_type": "code",
   "execution_count": null,
   "id": "29a785d2",
   "metadata": {},
   "outputs": [],
   "source": [
    "# Create a list of player names who scored more than 50 runs.\n",
    "\n",
    "player_scores = {\n",
    "    \"Sachin\": 100,\n",
    "    \"Dhoni\": 85,\n",
    "    \"Kohli\": 45,\n",
    "    \"Rohit\": 60\n",
    "}\n",
    "top_scorers = [player for player, score in player_scores.items() if score > 50]\n",
    "print(top_scorers)  # Output: ['Sachin', 'Dhoni', 'Rohit']\n"
   ]
  },
  {
   "cell_type": "code",
   "execution_count": null,
   "id": "99b57435",
   "metadata": {},
   "outputs": [],
   "source": [
    "'''Let's say we want to create a list of pairs (tuples) of numbers where both numbers are even, \n",
    " and the first number is less than the second number. \n",
    "We'll use two for clauses and one if clause.'''\n",
    "\n",
    "pairs = [(x, y) for x in range(5) for y in range(5) if x < y and x % 2 == 0 and y % 2 == 0]\n",
    "print(pairs)\n",
    "# Output: [(0, 2), (0, 4), (2, 4)]\n",
    "\n",
    "\n"
   ]
  },
  {
   "cell_type": "code",
   "execution_count": null,
   "id": "a0bd3adb",
   "metadata": {},
   "outputs": [],
   "source": [
    "'''Imagine we have two lists of names and we want to combine them into a list of full names, \n",
    "but only if both the first name and the last name start with the same letter.'''\n",
    "\n",
    "\n",
    "first_names = [\"John\", \"Jane\", \"Jim\", \"Jill\"]\n",
    "last_names = [\"Doe\", \"Smith\", \"Johnson\", \"Dane\"]\n",
    "\n",
    "full_names = [f\"{first} {last}\" for first in first_names for last in last_names if first[0] == last[0]]\n",
    "print(full_names)\n",
    "# Output: ['John Johnson', 'Jane Johnson', 'Jim Johnson', 'Jill Johnson']\n"
   ]
  },
  {
   "cell_type": "markdown",
   "id": "fbc82fb0",
   "metadata": {},
   "source": [
    "### Functions\n",
    "    Functions are blocks of code designed to do one specific job.\n",
    "    \n",
    "    Parameters: Variables listed inside the parentheses in the function definition.\n",
    "    \n",
    "    Arguments: Values passed to the function when you call it.\n",
    "    \n",
    "    To execute the function, use its name followed by parentheses ().\n",
    "    \n",
    "    If the function requires parameters, pass them inside the parentheses."
   ]
  },
  {
   "cell_type": "code",
   "execution_count": null,
   "id": "e692f76a",
   "metadata": {},
   "outputs": [],
   "source": [
    "# Let's start with a simple function that prints a greeting.\n",
    "\n",
    "def greet():\n",
    "    print(\"Hello, welcome to the game!\")\n",
    "\n",
    "# Calling the function\n",
    "greet()\n",
    "\n",
    "# We define a function named greet that prints a message.\n",
    "# We call the greet function, and it prints \"Hello, welcome to the game!\".\n"
   ]
  },
  {
   "cell_type": "code",
   "execution_count": null,
   "id": "f39b12ad",
   "metadata": {},
   "outputs": [],
   "source": [
    "#  Function with a Return Value\n",
    "# Functions can also return values using the return statement.\n",
    "\n",
    "def calculate_average(score1, score2, score3):\n",
    "    total = score1 + score2 + score3\n",
    "    average = total / 3\n",
    "    return average\n",
    "\n",
    "# Calling the function and storing the result\n",
    "average_score = calculate_average(50, 60, 70)\n",
    "print(f\"The average score is {average_score}\")\n"
   ]
  },
  {
   "cell_type": "code",
   "execution_count": null,
   "id": "61d590e7",
   "metadata": {},
   "outputs": [],
   "source": [
    "# Function with Default Parameters\n",
    "# You can provide default values for parameters. If an argument is not provided, the default value is used.\n",
    "\n",
    "\n",
    "def announce_winner(player=\"Unknown\", score=0):\n",
    "    print(f\"The winner is {player} with a score of {score}.\")\n",
    "\n",
    "# Calling the function with and without arguments\n",
    "announce_winner(\"Kohli\", 120)\n",
    "announce_winner()\n"
   ]
  },
  {
   "cell_type": "code",
   "execution_count": null,
   "id": "b4a64dd6",
   "metadata": {},
   "outputs": [],
   "source": [
    "# Function with Keyword Arguments\n",
    "\n",
    "def display_match_details(team1, team2, location):\n",
    "    print(f\"The match between {team1} and {team2} is at {location}.\")\n",
    "\n",
    "# Calling the function with keyword arguments\n",
    "display_match_details(team1=\"India\", team2=\"Australia\", location=\"Mumbai\")\n",
    "display_match_details(location=\"Sydney\", team1=\"England\", team2=\"New Zealand\")\n"
   ]
  },
  {
   "cell_type": "markdown",
   "id": "2f82391f",
   "metadata": {},
   "source": [
    "### Let's Play\n",
    "    Welcome to the grand finale of our Python training series! Let's take a fun and interactive journey through everything     we've learned, using our favorite sport, cricket, as the backdrop. Grab your popcorn, and let's recap our Python skills     in an engaging and memorable way.\n",
    "\n",
    "    1. Python Basics: Getting Started\n",
    "    Remember when we first met Python? It was like discovering a shiny new cricket bat. We learned about:\n",
    "\n",
    "    Integers and Floats: Whole numbers and decimals. They’re like the runs we score.\n",
    "    "
   ]
  },
  {
   "cell_type": "code",
   "execution_count": null,
   "id": "f2233bd7",
   "metadata": {},
   "outputs": [],
   "source": [
    "runs = 100  # An integer\n",
    "average = 45.67  # A float\n",
    "# Strings: Sequences of characters, like the name of your favorite player."
   ]
  },
  {
   "cell_type": "code",
   "execution_count": null,
   "id": "2bc7e41a",
   "metadata": {},
   "outputs": [],
   "source": [
    "player_name = \"Sachin Tendulkar\"\n",
    "# Booleans: True or False values, like determining if a match is won.\n",
    "is_winner = True"
   ]
  },
  {
   "cell_type": "markdown",
   "id": "256d8062",
   "metadata": {},
   "source": [
    "    2. Lists: The Team Lineup\n",
    "\n",
    "    Lists are like the lineup of players in a cricket team. They’re ordered, mutable, and can contain duplicates.\n",
    "    \n",
    "    We learned how to add, remove, and change players in our list, just like a cricket coach tweaking the team.\n",
    "    \n",
    "    3. Slicing: Picking the Best Players\n",
    "    Slicing helped us select specific players from our list, just like choosing the best players for a match."
   ]
  },
  {
   "cell_type": "code",
   "execution_count": null,
   "id": "2bed5d86",
   "metadata": {},
   "outputs": [],
   "source": [
    "players = [\"Sachin\", \"Dhoni\", \"Kohli\", \"Rohit\"]\n",
    "top_players = players[0:2]"
   ]
  },
  {
   "cell_type": "markdown",
   "id": "2a2c45dc",
   "metadata": {},
   "source": [
    "    Picks Sachin and Dhoni\n",
    "\n",
    "    4. IF Statements: Making Decisions on the Field\n",
    "\n",
    "    IF statements are our decision-makers, like an umpire on the field."
   ]
  },
  {
   "cell_type": "code",
   "execution_count": null,
   "id": "c9ffdf0f",
   "metadata": {},
   "outputs": [],
   "source": [
    "if runs > 50:\n",
    "    print(\"Half-century!\")\n",
    "else:\n",
    "    print(\"Keep going!\")\n"
   ]
  },
  {
   "cell_type": "markdown",
   "id": "938b82d6",
   "metadata": {},
   "source": [
    "    5. Loops: Practicing in the Nets\n",
    "\n",
    "    Loops help us repeat actions, just like practicing in the nets."
   ]
  },
  {
   "cell_type": "code",
   "execution_count": null,
   "id": "f816edb0",
   "metadata": {},
   "outputs": [],
   "source": [
    "for player in players:\n",
    "    print(f\"{player} is ready to play!\")"
   ]
  },
  {
   "cell_type": "markdown",
   "id": "0ed2848a",
   "metadata": {},
   "source": [
    "    6. Dictionaries: Player Stats\n",
    "    Dictionaries are our stat sheets, storing key-value pairs of player names and scores."
   ]
  },
  {
   "cell_type": "code",
   "execution_count": null,
   "id": "344f1c67",
   "metadata": {},
   "outputs": [],
   "source": [
    "\n",
    "player_scores = {\"Sachin\": 100, \"Dhoni\": 85, \"Kohli\": 120}\n"
   ]
  },
  {
   "cell_type": "markdown",
   "id": "fe4ca280",
   "metadata": {},
   "source": [
    "    We accessed and updated these stats like checking a scorecard.\n",
    "    \n",
    "    7. Tuples: The Immutable Legends\n",
    "        \n",
    "    Tuples are like cricket legends – their records are unchangeable."
   ]
  },
  {
   "cell_type": "code",
   "execution_count": null,
   "id": "63f661ff",
   "metadata": {},
   "outputs": [],
   "source": [
    "legend = (\"Sachin Tendulkar\", 200)"
   ]
  },
  {
   "cell_type": "markdown",
   "id": "59902d17",
   "metadata": {},
   "source": [
    "\n",
    "    8. Functions: Team Strategies\n",
    "    Functions are our game plans. We defined strategies and reused them."
   ]
  },
  {
   "cell_type": "code",
   "execution_count": null,
   "id": "44811b4b",
   "metadata": {},
   "outputs": [],
   "source": [
    "def announce_winner(player, score):\n",
    "    print(f\"The winner is {player} with a score of {score} runs.\")\n"
   ]
  },
  {
   "cell_type": "markdown",
   "id": "9eeef5e5",
   "metadata": {},
   "source": [
    "    9. List Comprehensions: Quick Strategies\n",
    "\n",
    "    List comprehensions are the T20 of lists – quick and powerful."
   ]
  },
  {
   "cell_type": "code",
   "execution_count": null,
   "id": "132df52e",
   "metadata": {},
   "outputs": [],
   "source": [
    "squared_scores = [score**2 for score in [10, 20, 30]]"
   ]
  },
  {
   "cell_type": "markdown",
   "id": "b2bf2a9d",
   "metadata": {},
   "source": [
    "\n",
    "    10. Combining Techniques: The Match Simulation\n",
    "    Finally, we combined everything for our ultimate cricket simulation:\n"
   ]
  },
  {
   "cell_type": "code",
   "execution_count": null,
   "id": "bf02c7a3",
   "metadata": {},
   "outputs": [],
   "source": [
    "# List of players and their scores\n",
    "players = [\n",
    "    {\"name\": \"Sachin\", \"score\": 100},\n",
    "    {\"name\": \"Dhoni\", \"score\": 85},\n",
    "    {\"name\": \"Kohli\", \"score\": 120},\n",
    "    {\"name\": \"Rohit\", \"score\": 75}\n",
    "]\n",
    "\n",
    "# Displaying player scores\n",
    "print(\"Cricket Game Scores:\")\n",
    "display_scores(players)\n",
    "\n",
    "# Calculating and displaying the average score\n",
    "average_score = calculate_average_score(players)\n",
    "print(f\"\\nThe average score is {average_score:.2f} runs.\")\n",
    "\n",
    "# Announcing the highest scorer\n",
    "announce_highest_scorer(players)\n",
    "\n",
    "# Checking and congratulating century scorers\n",
    "print(\"\\nCentury Scorers:\")\n",
    "check_for_centuries(players)\n"
   ]
  },
  {
   "cell_type": "code",
   "execution_count": null,
   "id": "e6a3abd2",
   "metadata": {},
   "outputs": [],
   "source": []
  }
 ],
 "metadata": {
  "kernelspec": {
   "display_name": "Python 3",
   "language": "python",
   "name": "python3"
  },
  "language_info": {
   "codemirror_mode": {
    "name": "ipython",
    "version": 3
   },
   "file_extension": ".py",
   "mimetype": "text/x-python",
   "name": "python",
   "nbconvert_exporter": "python",
   "pygments_lexer": "ipython3",
   "version": "3.8.8"
  }
 },
 "nbformat": 4,
 "nbformat_minor": 5
}
