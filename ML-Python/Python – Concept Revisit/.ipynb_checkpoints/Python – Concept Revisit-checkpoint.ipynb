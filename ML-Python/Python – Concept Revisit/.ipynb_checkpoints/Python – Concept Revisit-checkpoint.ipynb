{
 "cells": [
  {
   "cell_type": "markdown",
   "id": "0a558579",
   "metadata": {},
   "source": [
    "# Concept Revisit"
   ]
  },
  {
   "cell_type": "markdown",
   "id": "86b90568",
   "metadata": {},
   "source": [
    "### Setting up python environment\n",
    "\n",
    "Setting up Python in your local environment is a straightforward process. \n",
    "Here’s a step-by-step guide to help you get started, assuming you're using a Windows operating system. \n",
    "The steps are similar for macOS and Linux, with slight variations."
   ]
  },
  {
   "cell_type": "markdown",
   "id": "15370009",
   "metadata": {},
   "source": [
    "### Step 1: Download and Install Python\n",
    "\n",
    "#### Download Python:\n",
    "    -Go to the official Python website.\n",
    "    -Click on the \"Downloads\" tab.\n",
    "    -Download the latest version of Python for your operating system.\n",
    "    \n",
    "#### Run the Installer:\n",
    "    -Open the downloaded installer file.\n",
    "    -Make sure to check the box that says \"Add Python to PATH\" before clicking \"Install Now\".\n",
    "    -Follow the installation prompts.\n",
    "    \n",
    "### Step 2: Verify the Installation\n",
    "\n",
    "#### Open Command Prompt:\n",
    "    -Press Win + R, type cmd, and press Enter.\n",
    "    -In the Command Prompt, type python --version and press Enter. You should see the version of Python you installed.\n",
    "    -Also, check pip (Python's package installer) by typing pip --version.\n",
    "    \n",
    "### Step 3: Set Up a Virtual Environment\n",
    "\n",
    "#### Create a Virtual Environment:\n",
    "    -Open Command Prompt.\n",
    "    -Navigate to the directory where you want to create your project. For example, cd C:\\Users\\YourUsername\\Projects.\n",
    "    -Run python -m venv myenv to create a virtual environment named myenv.\n",
    "#### Activate the Virtual Environment:\n",
    "    -On Windows, run myenv\\Scripts\\activate.\n",
    "    -On macOS and Linux, run source myenv/bin/activate.\n",
    "    -You should see (myenv) at the beginning of your command prompt line, indicating the virtual environment is active.\n",
    "    \n",
    "### Step 3: Install Packages\n",
    "    -With the virtual environment activated, you can install packages using pip. For example, to install numpy, type pip         install numpy.\n",
    " \n",
    " #### Install Jupyter Notebook (Optional but Recommended):\n",
    " \n",
    "    -Activate Your Virtual Environment\n",
    "    -Open Command Prompt.\n",
    "    -Navigate to your project directory and activate your virtual environment\n",
    "    -Install Jupyter Notebook(By command :-\"pip install jupyter\"\n",
    "    -Launch Jupyter Notebook(By command:-\"jupyter notebook\")\n",
    "##### Create a New Notebook:\n",
    "\n",
    "    -In the Jupyter Notebook interface, navigate to the directory where you want to create your notebook.\n",
    "    -Click on the \"New\" button on the right and select \"Python 3\" from the dropdown menu. This will create a new notebook.\n",
    "    -Use the Notebook:\n",
    "     You can now write and execute Python code in the notebook cells.\n",
    " "
   ]
  },
  {
   "cell_type": "markdown",
   "id": "4bd4ba68",
   "metadata": {},
   "source": [
    "# Python Basics"
   ]
  },
  {
   "cell_type": "markdown",
   "id": "2ac5cec5",
   "metadata": {},
   "source": [
    "### Data types\n",
    "Python has several basic data types. Here are a few common ones\n",
    "Integers,Floats,String,Booleans"
   ]
  },
  {
   "cell_type": "markdown",
   "id": "5faf0c45",
   "metadata": {},
   "source": [
    "#### Integers:\n",
    "    Whole numbers, no decimals.\n",
    "    Immutable: Once you create an integer, its value cannot be changed.\n",
    "    Example: Number of players in a cricket team.\n",
    "    "
   ]
  },
  {
   "cell_type": "code",
   "execution_count": null,
   "id": "4a3410a9",
   "metadata": {},
   "outputs": [],
   "source": [
    "cricket_team_players = 11\n",
    "print(cricket_team_players)  # Output: 11\n"
   ]
  },
  {
   "cell_type": "markdown",
   "id": "e0bdc1b6",
   "metadata": {},
   "source": [
    "#### Floats:\n",
    "    Numbers with decimals.\n",
    "    Immutable: Once you create a float, its value cannot be changed.\n",
    "    Example: Average score of a tennis player."
   ]
  },
  {
   "cell_type": "code",
   "execution_count": null,
   "id": "e8e71c9f",
   "metadata": {},
   "outputs": [],
   "source": [
    "tennis_player_avg_score = 7.85\n",
    "print(tennis_player_avg_score)  # Output: 7.85\n"
   ]
  },
  {
   "cell_type": "markdown",
   "id": "228d1012",
   "metadata": {},
   "source": [
    "#### Strings:\n",
    "    Sequence of characters.\n",
    "    Immutable: Once you create a string, you cannot change its characters.\n",
    "    Example: Name of a badminton player."
   ]
  },
  {
   "cell_type": "code",
   "execution_count": null,
   "id": "70bcfa7c",
   "metadata": {},
   "outputs": [],
   "source": [
    "badminton_player_name = \"Saina Nehwal\"\n",
    "print(badminton_player_name)  # Output: Saina Nehwal\n"
   ]
  },
  {
   "cell_type": "markdown",
   "id": "4b031fa8",
   "metadata": {},
   "source": [
    "##### Booleans:\n",
    "    Immutable: Once you create a boolean, its value cannot be changed.\n",
    "True or False values.\n",
    "Example: Is the match over?"
   ]
  },
  {
   "cell_type": "code",
   "execution_count": null,
   "id": "d52d11e1",
   "metadata": {},
   "outputs": [],
   "source": [
    "is_match_over = True\n",
    "print(is_match_over)  # Output: True\n"
   ]
  },
  {
   "cell_type": "markdown",
   "id": "61d23cee",
   "metadata": {},
   "source": [
    "### Lists\n",
    "    A list is a collection of items in a particular order.\n",
    "    Example: List of cricket team players.\n",
    "    \n",
    "    Ordered: The items in a list have a specific order, and you can access them using an index (position).\n",
    "    Mutable: You can change the items in a list (add, remove, or modify).\n",
    "    Allows Duplicates: Lists can have multiple items with the same value."
   ]
  },
  {
   "cell_type": "code",
   "execution_count": null,
   "id": "071c1e44",
   "metadata": {},
   "outputs": [],
   "source": [
    "cricket_team = [\"Virat\", \"Rohit\", \"Dhoni\", \"Rahul\", \"Jadeja\", \"Shami\", \"Bumrah\", \"Pant\", \"Iyer\", \"Kuldeep\", \"Pandya\"]\n",
    "print(cricket_team)  # Output: ['Virat', 'Rohit', 'Dhoni', 'Rahul', 'Jadeja', 'Shami', 'Bumrah', 'Pant', 'Iyer', 'Kuldeep', 'Pandya']\n",
    "\n"
   ]
  },
  {
   "cell_type": "code",
   "execution_count": null,
   "id": "f5556530",
   "metadata": {},
   "outputs": [],
   "source": [
    "\n",
    "players = [\"Virat\", \"Rohit\", \"Dhoni\"]\n",
    "print(players[0])  # Output: Virat (access the first item)\n",
    "players.append(\"Rahul\")  # Add a new item\n",
    "print(players)  # Output: ['Virat', 'Rohit', 'Dhoni', 'Rahul']\n",
    "players[1] = \"Sharma\"  # Change an item\n",
    "print(players)  # Output: ['Virat', 'Sharma', 'Dhoni', 'Rahul']"
   ]
  },
  {
   "cell_type": "markdown",
   "id": "4a4a29a0",
   "metadata": {},
   "source": [
    "### Selection by Position\n",
    "This involves selecting elements from a sequence based on their position."
   ]
  },
  {
   "cell_type": "code",
   "execution_count": null,
   "id": "792b6b28",
   "metadata": {},
   "outputs": [],
   "source": [
    "tennis_players = [\"Nadal\", \"Federer\", \"Djokovic\", \"Murray\"]\n",
    "second_player = tennis_players[1]\n",
    "print(second_player)  # Output: Federer\n"
   ]
  },
  {
   "cell_type": "markdown",
   "id": "051eff03",
   "metadata": {},
   "source": [
    "### Slicing\n",
    "    Slicing allows you to get a part of the list.\n",
    "\n",
    "    Example: Get the names of the first three players in the cricket team."
   ]
  },
  {
   "cell_type": "code",
   "execution_count": null,
   "id": "6f1deedc",
   "metadata": {},
   "outputs": [],
   "source": [
    "first_three_players = cricket_team[:3]\n",
    "print(first_three_players)  # Output: ['Virat', 'Rohit', 'Dhoni']\n"
   ]
  },
  {
   "cell_type": "markdown",
   "id": "6a4856eb",
   "metadata": {},
   "source": [
    "### Dictionaries\n",
    "    Dictionaries store data in key-value pairs.\n",
    "    Example: Store scores of players in a tennis match.\n",
    "\n",
    "    Unordered: The items in a dictionary do not have a specific order, but you can access them using a key.\n",
    "\n",
    "    Mutable: You can change the items in a dictionary (add, remove, or modify\n",
    "\n",
    "    Keys Must Be Unique: Each key in a dictionary must be unique, but values can be duplicated."
   ]
  },
  {
   "cell_type": "code",
   "execution_count": null,
   "id": "f310e726",
   "metadata": {},
   "outputs": [],
   "source": [
    "tennis_scores = {\n",
    "    \"Nadal\": 6,\n",
    "    \"Federer\": 4,\n",
    "    \"Djokovic\": 7,\n",
    "    \"Murray\": 5\n",
    "}\n",
    "print(tennis_scores)  # Output: {'Nadal': 6, 'Federer': 4, 'Djokovic': 7, 'Murray': 5}\n",
    "\n",
    "# Accessing Nadal's score\n",
    "print(tennis_scores[\"Nadal\"])  # Output: 6\n"
   ]
  },
  {
   "cell_type": "markdown",
   "id": "82380f15",
   "metadata": {},
   "source": [
    "### Sets (set)\n",
    "\n",
    "    Unordered: The items in a set do not have a specific order, and you cannot access them using an index.\n",
    "    \n",
    "    Mutable: You can change the items in a set (add or remove items).\n",
    "    \n",
    "    No Duplicates: Sets automatically remove duplicate items."
   ]
  },
  {
   "cell_type": "code",
   "execution_count": null,
   "id": "0ba9309c",
   "metadata": {},
   "outputs": [],
   "source": [
    "tournaments = {\"All England\", \"World Championships\", \"Olympics\"}\n",
    "tournaments.add(\"Thomas Cup\")  # Add a new item\n",
    "print(tournaments)  # Output: {'All England', 'Olympics', 'World Championships', 'Thomas Cup'}\n",
    "tournaments.remove(\"Olympics\")  # Remove an item\n",
    "print(tournaments)  # Output: {'All England', 'World Championships', 'Thomas Cup'}\n",
    "tournaments.add(\"All England\")  # Adding a duplicate has no effect\n",
    "print(tournaments)  # Output: {'All England', 'World Championships', 'Thomas Cup'}\n"
   ]
  },
  {
   "cell_type": "markdown",
   "id": "cc08691b",
   "metadata": {},
   "source": [
    "### Tuples\n",
    "    Tuples are like lists but are immutable (cannot be changed). \n",
    "\n",
    "    Example: Store the coordinates of the corners of a badminton court.\n",
    "\n",
    "    Ordered: The items in a tuple have a specific order, and you can access them using an index.\n",
    "    Immutable: Once you create a tuple, you cannot change its items.\n",
    "    Allows Duplicates: Tuples can have multiple items with the same value."
   ]
  },
  {
   "cell_type": "code",
   "execution_count": null,
   "id": "e6867329",
   "metadata": {},
   "outputs": [],
   "source": [
    "court_corners = ((0, 0), (0, 20), (10, 0), (10, 20))\n",
    "print(court_corners)  # Output: ((0, 0), (0, 20), (10, 0), (10, 20))\n",
    "\n",
    "# Accessing the first corner\n",
    "print(court_corners[0])  # Output: (0, 0)\n"
   ]
  },
  {
   "cell_type": "code",
   "execution_count": null,
   "id": "937ca0e0",
   "metadata": {},
   "outputs": [],
   "source": [
    "match_stats = (\"Roger Federer\", 3, 120.5)\n",
    "print(match_stats[0])  # Output: Roger Federer (access the first item)\n",
    "# match_stats[1] = 2  # This will cause an error because tuples are immutable\n"
   ]
  },
  {
   "cell_type": "markdown",
   "id": "30023f64",
   "metadata": {},
   "source": [
    "### IF Statements\n",
    "    IF statements allow you to execute a block of code based on a condition.\n",
    "\n",
    "    Example: Check if a player is in the cricket team.\n"
   ]
  },
  {
   "cell_type": "code",
   "execution_count": null,
   "id": "2aae0dd5",
   "metadata": {},
   "outputs": [],
   "source": [
    "player_to_check = \"Dhoni\"\n",
    "if player_to_check in cricket_team:\n",
    "    print(f\"{player_to_check} is in the team!\")  # Output: Dhoni is in the team!\n",
    "else:\n",
    "    print(f\"{player_to_check} is not in the team!\")\n"
   ]
  },
  {
   "cell_type": "markdown",
   "id": "db177520",
   "metadata": {},
   "source": [
    "### Loops\n",
    "    Loops allow you to execute a block of code multiple times.\n",
    "#### Types of Loops in Python\n",
    "     For Loop   \n",
    "     While Loop\n",
    "   "
   ]
  },
  {
   "cell_type": "markdown",
   "id": "eeeae528",
   "metadata": {},
   "source": [
    "### For Loop\n",
    "A for loop is used for iterating over a sequence (such as a list, tuple, dictionary, set, or string).\n",
    "\n",
    "Example 1: Simple For Loop\n",
    "Let's say we want to print the numbers from 1 to 5."
   ]
  },
  {
   "cell_type": "code",
   "execution_count": null,
   "id": "391e5a55",
   "metadata": {},
   "outputs": [],
   "source": [
    "for i in range(1, 6):  # range(1, 6) generates numbers from 1 to 5\n",
    "    print(i)"
   ]
  },
  {
   "cell_type": "markdown",
   "id": "312117a9",
   "metadata": {},
   "source": [
    "range(1, 6) generates a sequence of numbers from 1 to 5.\n",
    "\n",
    "The for loop iterates over each number in this sequence and prints it.\n",
    "\n",
    "Now, let's say we have a list of players in a cricket match"
   ]
  },
  {
   "cell_type": "code",
   "execution_count": null,
   "id": "cb41e61f",
   "metadata": {},
   "outputs": [],
   "source": [
    "for player in cricket_team:\n",
    "    print(player)\n",
    "# Output:\n",
    "# Virat\n",
    "# Rohit\n",
    "# Dhoni\n",
    "# Rahul\n",
    "# Jadeja\n",
    "# Shami\n",
    "# Bumrah\n",
    "# Pant\n",
    "# Iyer\n",
    "# Kuldeep\n",
    "# Pandya\n"
   ]
  },
  {
   "cell_type": "markdown",
   "id": "4d5dae1a",
   "metadata": {},
   "source": [
    "Now, let's say we have a list of scores in a cricket match and we want to calculate the total score."
   ]
  },
  {
   "cell_type": "code",
   "execution_count": null,
   "id": "9277220e",
   "metadata": {},
   "outputs": [],
   "source": [
    "scores = [10, 20, 30, 40, 50]\n",
    "total_score = 0\n",
    "\n",
    "for score in scores:\n",
    "    total_score += score  # Add each score to total_score\n",
    "\n",
    "print(f\"Total Score: {total_score}\")\n"
   ]
  },
  {
   "cell_type": "markdown",
   "id": "988efa44",
   "metadata": {},
   "source": [
    "### While Loop\n",
    "    A while loop repeatedly executes a block of code as long as a given condition is True.\n",
    "\n",
    "    Example 3: Simple While Loop\n",
    "\n",
    "    Let's print the numbers from 1 to 5 using a while loop."
   ]
  },
  {
   "cell_type": "code",
   "execution_count": null,
   "id": "7e66402a",
   "metadata": {},
   "outputs": [],
   "source": [
    "i = 1\n",
    "while i <= 5:\n",
    "    print(i)\n",
    "    i += 1  # Increment i by 1"
   ]
  },
  {
   "cell_type": "markdown",
   "id": "9913ae27",
   "metadata": {},
   "source": [
    "    We initialize i to 1.\n",
    "\n",
    "    The while loop checks if i is less than or equal to 5.\n",
    "\n",
    "    If the condition is True, it prints i and then increments i by 1.\n",
    "\n",
    "    The loop continues until i becomes 6, at which point the condition becomes False and the loop stops."
   ]
  },
  {
   "cell_type": "code",
   "execution_count": null,
   "id": "7b8f8f71",
   "metadata": {},
   "outputs": [],
   "source": [
    "#Let's calculate the sum of numbers from 1 to 5 using a while loop.\n",
    "\n",
    "i = 1\n",
    "total_sum = 0\n",
    "\n",
    "while i <= 5:\n",
    "    total_sum += i  # Add i to total_sum\n",
    "    i += 1  # Increment i by 1\n",
    "\n",
    "print(f\"Total Sum: {total_sum}\")\n"
   ]
  },
  {
   "cell_type": "markdown",
   "id": "1cfb0585",
   "metadata": {},
   "source": [
    "### Combining Loops with Conditional Statements"
   ]
  },
  {
   "cell_type": "code",
   "execution_count": null,
   "id": "0728d410",
   "metadata": {},
   "outputs": [],
   "source": [
    "\n",
    "\n",
    "for i in range(1, 11):\n",
    "    if i % 2 == 0:  # Check if the number is even\n",
    "        print(i)\n",
    "        \n",
    "# The for loop iterates over numbers from 1 to 10.\n",
    "# The if statement checks if the number i is even (i % 2 == 0).\n",
    "# If the condition is True, it prints the number.\n",
    "\n"
   ]
  },
  {
   "cell_type": "markdown",
   "id": "f4c21f61",
   "metadata": {},
   "source": [
    "### Loop with Break Statement"
   ]
  },
  {
   "cell_type": "code",
   "execution_count": null,
   "id": "b8b4e975",
   "metadata": {},
   "outputs": [],
   "source": [
    "# Let's find the first number greater than 50 in a list of scores and stop checking once we find it.\n",
    "scores = [10, 20, 30, 40, 60, 70]\n",
    "i = 0\n",
    "\n",
    "while i < len(scores):\n",
    "    if scores[i] > 50:\n",
    "        print(f\"First score greater than 50: {scores[i]}\")\n",
    "        break  # Exit the loop when the condition is met\n",
    "    i += 1\n"
   ]
  },
  {
   "cell_type": "markdown",
   "id": "6988e32f",
   "metadata": {},
   "source": [
    "    We initialize i to 0.\n",
    "\n",
    "    The while loop checks if i is less than the length of the scores list.\n",
    "\n",
    "    The if statement checks if the current score is greater than 50.\n",
    "\n",
    "    If the condition is True, it prints the score and breaks out of the loop.\n",
    "\n",
    "    If the condition is False, it increments i by 1 and continues the loop."
   ]
  },
  {
   "cell_type": "markdown",
   "id": "43fb177b",
   "metadata": {},
   "source": [
    "### List Comprehensions in Python\n",
    "\n",
    "    List comprehensions provide a concise way to create lists. They consist of brackets containing an expression followed       by a for clause, then zero or more for or if clauses. The result will be a new list resulting from evaluating the           expression in the context of the for and if clauses which follow it."
   ]
  },
  {
   "cell_type": "markdown",
   "id": "b2830501",
   "metadata": {},
   "source": [
    "    Basic Syntax\n",
    "    \n",
    "     new_list = [expression for item in iterable if condition]\n",
    "\n",
    "    -expression is the item to be added to the new list.\n",
    "\n",
    "    -iterable is any sequence (like a list, tuple, dictionary, set, etc.).\n",
    "\n",
    "    -condition is optional; if provided, it filters items from the iterable."
   ]
  },
  {
   "cell_type": "code",
   "execution_count": null,
   "id": "ba1c708e",
   "metadata": {},
   "outputs": [],
   "source": [
    "# Let's create a list of squared numbers from another list of integers.\n",
    "\n",
    "numbers = [1, 2, 3, 4, 5]\n",
    "squared_numbers = [n**2 for n in numbers]\n",
    "print(squared_numbers)  # Output: [1, 4, 9, 16, 25]\n",
    "\n"
   ]
  },
  {
   "cell_type": "code",
   "execution_count": null,
   "id": "c15d31a5",
   "metadata": {},
   "outputs": [],
   "source": [
    "# Convert a tuple of temperatures in Celsius to Fahrenheit.\n",
    "\n",
    "\n",
    "celsius = (0, 10, 20, 30, 40)\n",
    "fahrenheit = [(temp * 9/5) + 32 for temp in celsius]\n",
    "print(fahrenheit)  # Output: [32.0, 50.0, 68.0, 86.0, 104.0]\n"
   ]
  },
  {
   "cell_type": "code",
   "execution_count": null,
   "id": "8ae8de79",
   "metadata": {},
   "outputs": [],
   "source": [
    "# Create a list of player names who scored more than 50 runs.\n",
    "\n",
    "player_scores = {\n",
    "    \"Sachin\": 100,\n",
    "    \"Dhoni\": 85,\n",
    "    \"Kohli\": 45,\n",
    "    \"Rohit\": 60\n",
    "}\n",
    "top_scorers = [player for player, score in player_scores.items() if score > 50]\n",
    "print(top_scorers)  # Output: ['Sachin', 'Dhoni', 'Rohit']\n"
   ]
  },
  {
   "cell_type": "code",
   "execution_count": null,
   "id": "01631db8",
   "metadata": {},
   "outputs": [],
   "source": [
    "'''Let's say we want to create a list of pairs (tuples) of numbers where both numbers are even, \n",
    " and the first number is less than the second number. \n",
    "We'll use two for clauses and one if clause.'''\n",
    "\n",
    "pairs = [(x, y) for x in range(5) for y in range(5) if x < y and x % 2 == 0 and y % 2 == 0]\n",
    "print(pairs)\n",
    "# Output: [(0, 2), (0, 4), (2, 4)]\n",
    "\n",
    "\n"
   ]
  },
  {
   "cell_type": "code",
   "execution_count": null,
   "id": "1ea55afe",
   "metadata": {},
   "outputs": [],
   "source": [
    "'''Imagine we have two lists of names and we want to combine them into a list of full names, \n",
    "but only if both the first name and the last name start with the same letter.'''\n",
    "\n",
    "\n",
    "first_names = [\"John\", \"Jane\", \"Jim\", \"Jill\"]\n",
    "last_names = [\"Doe\", \"Smith\", \"Johnson\", \"Dane\"]\n",
    "\n",
    "full_names = [f\"{first} {last}\" for first in first_names for last in last_names if first[0] == last[0]]\n",
    "print(full_names)\n",
    "# Output: ['John Johnson', 'Jane Johnson', 'Jim Johnson', 'Jill Johnson']\n"
   ]
  },
  {
   "cell_type": "markdown",
   "id": "bff57b31",
   "metadata": {},
   "source": [
    "### Functions\n",
    "    Functions are blocks of code designed to do one specific job.\n",
    "    \n",
    "    Parameters: Variables listed inside the parentheses in the function definition.\n",
    "    \n",
    "    Arguments: Values passed to the function when you call it.\n",
    "    \n",
    "    To execute the function, use its name followed by parentheses ().\n",
    "    \n",
    "    If the function requires parameters, pass them inside the parentheses."
   ]
  },
  {
   "cell_type": "code",
   "execution_count": null,
   "id": "2aa54822",
   "metadata": {},
   "outputs": [],
   "source": [
    "# Let's start with a simple function that prints a greeting.\n",
    "\n",
    "def greet():\n",
    "    print(\"Hello, welcome to the game!\")\n",
    "\n",
    "# Calling the function\n",
    "greet()\n",
    "\n",
    "# We define a function named greet that prints a message.\n",
    "# We call the greet function, and it prints \"Hello, welcome to the game!\".\n"
   ]
  },
  {
   "cell_type": "code",
   "execution_count": null,
   "id": "32646dd6",
   "metadata": {},
   "outputs": [],
   "source": [
    "#  Function with a Return Value\n",
    "# Functions can also return values using the return statement.\n",
    "\n",
    "def calculate_average(score1, score2, score3):\n",
    "    total = score1 + score2 + score3\n",
    "    average = total / 3\n",
    "    return average\n",
    "\n",
    "# Calling the function and storing the result\n",
    "average_score = calculate_average(50, 60, 70)\n",
    "print(f\"The average score is {average_score}\")\n"
   ]
  },
  {
   "cell_type": "code",
   "execution_count": null,
   "id": "dba5cca0",
   "metadata": {},
   "outputs": [],
   "source": [
    "# Function with Default Parameters\n",
    "# You can provide default values for parameters. If an argument is not provided, the default value is used.\n",
    "\n",
    "\n",
    "def announce_winner(player=\"Unknown\", score=0):\n",
    "    print(f\"The winner is {player} with a score of {score}.\")\n",
    "\n",
    "# Calling the function with and without arguments\n",
    "announce_winner(\"Kohli\", 120)\n",
    "announce_winner()\n"
   ]
  },
  {
   "cell_type": "code",
   "execution_count": null,
   "id": "00426618",
   "metadata": {},
   "outputs": [],
   "source": [
    "# Function with Keyword Arguments\n",
    "\n",
    "def display_match_details(team1, team2, location):\n",
    "    print(f\"The match between {team1} and {team2} is at {location}.\")\n",
    "\n",
    "# Calling the function with keyword arguments\n",
    "display_match_details(team1=\"India\", team2=\"Australia\", location=\"Mumbai\")\n",
    "display_match_details(location=\"Sydney\", team1=\"England\", team2=\"New Zealand\")\n"
   ]
  },
  {
   "cell_type": "markdown",
   "id": "d3a87b01",
   "metadata": {},
   "source": [
    "### Let's Play\n",
    "    Welcome to the grand finale of our Python training series! Let's take a fun and interactive journey through everything     we've learned, using our favorite sport, cricket, as the backdrop. Grab your popcorn, and let's recap our Python skills     in an engaging and memorable way.\n",
    "\n",
    "    1. Python Basics: Getting Started\n",
    "    Remember when we first met Python? It was like discovering a shiny new cricket bat. We learned about:\n",
    "\n",
    "    Integers and Floats: Whole numbers and decimals. They’re like the runs we score.\n",
    "    "
   ]
  },
  {
   "cell_type": "code",
   "execution_count": null,
   "id": "6f32bfa5",
   "metadata": {},
   "outputs": [],
   "source": [
    "runs = 100  # An integer\n",
    "average = 45.67  # A float\n",
    "# Strings: Sequences of characters, like the name of your favorite player."
   ]
  },
  {
   "cell_type": "code",
   "execution_count": null,
   "id": "7da5f8e9",
   "metadata": {},
   "outputs": [],
   "source": [
    "player_name = \"Sachin Tendulkar\"\n",
    "# Booleans: True or False values, like determining if a match is won.\n",
    "is_winner = True"
   ]
  },
  {
   "cell_type": "markdown",
   "id": "09bbb01b",
   "metadata": {},
   "source": [
    "    2. Lists: The Team Lineup\n",
    "\n",
    "    Lists are like the lineup of players in a cricket team. They’re ordered, mutable, and can contain duplicates.\n",
    "    \n",
    "    We learned how to add, remove, and change players in our list, just like a cricket coach tweaking the team.\n",
    "    \n",
    "    3. Slicing: Picking the Best Players\n",
    "    Slicing helped us select specific players from our list, just like choosing the best players for a match."
   ]
  },
  {
   "cell_type": "code",
   "execution_count": null,
   "id": "bc2ce593",
   "metadata": {},
   "outputs": [],
   "source": [
    "players = [\"Sachin\", \"Dhoni\", \"Kohli\", \"Rohit\"]\n",
    "top_players = players[0:2]"
   ]
  },
  {
   "cell_type": "markdown",
   "id": "d4c6c802",
   "metadata": {},
   "source": [
    "    Picks Sachin and Dhoni\n",
    "\n",
    "    4. IF Statements: Making Decisions on the Field\n",
    "\n",
    "    IF statements are our decision-makers, like an umpire on the field."
   ]
  },
  {
   "cell_type": "code",
   "execution_count": null,
   "id": "d9201bc1",
   "metadata": {},
   "outputs": [],
   "source": [
    "if runs > 50:\n",
    "    print(\"Half-century!\")\n",
    "else:\n",
    "    print(\"Keep going!\")\n"
   ]
  },
  {
   "cell_type": "markdown",
   "id": "217ce03d",
   "metadata": {},
   "source": [
    "    5. Loops: Practicing in the Nets\n",
    "\n",
    "    Loops help us repeat actions, just like practicing in the nets."
   ]
  },
  {
   "cell_type": "code",
   "execution_count": null,
   "id": "c2b54490",
   "metadata": {},
   "outputs": [],
   "source": [
    "for player in players:\n",
    "    print(f\"{player} is ready to play!\")"
   ]
  },
  {
   "cell_type": "markdown",
   "id": "d9cb6bae",
   "metadata": {},
   "source": [
    "    6. Dictionaries: Player Stats\n",
    "    Dictionaries are our stat sheets, storing key-value pairs of player names and scores."
   ]
  },
  {
   "cell_type": "code",
   "execution_count": null,
   "id": "a1f1397d",
   "metadata": {},
   "outputs": [],
   "source": [
    "\n",
    "player_scores = {\"Sachin\": 100, \"Dhoni\": 85, \"Kohli\": 120}\n",
    "We accessed and updated these stats like checking a scorecard."
   ]
  },
  {
   "cell_type": "markdown",
   "id": "f9d6a34a",
   "metadata": {},
   "source": [
    "\n",
    "    7. Tuples: The Immutable Legends\n",
    "        \n",
    "    Tuples are like cricket legends – their records are unchangeable."
   ]
  },
  {
   "cell_type": "code",
   "execution_count": null,
   "id": "fa0cecff",
   "metadata": {},
   "outputs": [],
   "source": [
    "legend = (\"Sachin Tendulkar\", 200)"
   ]
  },
  {
   "cell_type": "markdown",
   "id": "cb499237",
   "metadata": {},
   "source": [
    "\n",
    "    8. Functions: Team Strategies\n",
    "    Functions are our game plans. We defined strategies and reused them."
   ]
  },
  {
   "cell_type": "code",
   "execution_count": null,
   "id": "01eba8bc",
   "metadata": {},
   "outputs": [],
   "source": [
    "def announce_winner(player, score):\n",
    "    print(f\"The winner is {player} with a score of {score} runs.\")\n"
   ]
  },
  {
   "cell_type": "markdown",
   "id": "5123ca5c",
   "metadata": {},
   "source": [
    "    9. List Comprehensions: Quick Strategies\n",
    "\n",
    "    List comprehensions are the T20 of lists – quick and powerful."
   ]
  },
  {
   "cell_type": "code",
   "execution_count": null,
   "id": "b0b704a7",
   "metadata": {},
   "outputs": [],
   "source": [
    "squared_scores = [score**2 for score in [10, 20, 30]]"
   ]
  },
  {
   "cell_type": "markdown",
   "id": "fd9e32dd",
   "metadata": {},
   "source": [
    "\n",
    "    10. Combining Techniques: The Match Simulation\n",
    "    Finally, we combined everything for our ultimate cricket simulation:\n"
   ]
  },
  {
   "cell_type": "code",
   "execution_count": null,
   "id": "e33061d1",
   "metadata": {},
   "outputs": [],
   "source": [
    "# List of players and their scores\n",
    "players = [\n",
    "    {\"name\": \"Sachin\", \"score\": 100},\n",
    "    {\"name\": \"Dhoni\", \"score\": 85},\n",
    "    {\"name\": \"Kohli\", \"score\": 120},\n",
    "    {\"name\": \"Rohit\", \"score\": 75}\n",
    "]\n",
    "\n",
    "# Displaying player scores\n",
    "print(\"Cricket Game Scores:\")\n",
    "display_scores(players)\n",
    "\n",
    "# Calculating and displaying the average score\n",
    "average_score = calculate_average_score(players)\n",
    "print(f\"\\nThe average score is {average_score:.2f} runs.\")\n",
    "\n",
    "# Announcing the highest scorer\n",
    "announce_highest_scorer(players)\n",
    "\n",
    "# Checking and congratulating century scorers\n",
    "print(\"\\nCentury Scorers:\")\n",
    "check_for_centuries(players)\n"
   ]
  }
 ],
 "metadata": {
  "kernelspec": {
   "display_name": "Python 3 (ipykernel)",
   "language": "python",
   "name": "python3"
  },
  "language_info": {
   "codemirror_mode": {
    "name": "ipython",
    "version": 3
   },
   "file_extension": ".py",
   "mimetype": "text/x-python",
   "name": "python",
   "nbconvert_exporter": "python",
   "pygments_lexer": "ipython3",
   "version": "3.9.2"
  }
 },
 "nbformat": 4,
 "nbformat_minor": 5
}
