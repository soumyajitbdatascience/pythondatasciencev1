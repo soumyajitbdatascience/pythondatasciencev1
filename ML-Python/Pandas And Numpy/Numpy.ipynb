{
 "cells": [
  {
   "cell_type": "markdown",
   "id": "55ff7836",
   "metadata": {},
   "source": [
    "###  introduction: Welcome to the World of Numpy!\n",
    "\n",
    "\n",
    "**Understanding Numpy Arrays — Your Personal Assistant for Data**\n",
    "\n",
    "Imagine you’re managing a list of room prices for different suites in your hotel. You have Deluxe, Executive, and Presidential rooms. Normally, you might use a spreadsheet, but Numpy’s arrays allow you to manage these lists in a much more efficient way.\n",
    "\n",
    "#### Let’s start by creating a list of room prices:"
   ]
  },
  {
   "cell_type": "code",
   "execution_count": 1,
   "id": "1231659c",
   "metadata": {},
   "outputs": [
    {
     "name": "stdout",
     "output_type": "stream",
     "text": [
      "[120 220 450]\n"
     ]
    }
   ],
   "source": [
    "import numpy as np\n",
    "\n",
    "# Prices for Deluxe, Executive, and Presidential rooms\n",
    "room_prices = np.array([120, 220, 450])\n",
    "print(room_prices)\n"
   ]
  },
  {
   "cell_type": "markdown",
   "id": "7e03631e",
   "metadata": {},
   "source": [
    "#### Here, room_prices is a Numpy array — a powerful structure that allows you to do quick calculations, just like calculating total revenue or the average price of rooms.\n",
    "\n",
    "**Key Concepts:**\n",
    "\n",
    "Numpy arrays can hold multiple data points, just like columns in a spreadsheet, but they are faster and easier to manipulate.\n",
    "Creating arrays is simple and helps you manage data effectively.\n",
    "\n",
    "**Matrix Creation and Manipulation**\n",
    "\n",
    "Now imagine you’re managing multiple hotel branches across different cities, and you need to keep track of room prices for each branch. You’ll need something more than just a list — a matrix!\n",
    "\n",
    "A matrix is like a 2D array, where rows and columns can hold data about different branches and room types. Let’s create a matrix to keep track of room prices for three branches in three different cities."
   ]
  },
  {
   "cell_type": "code",
   "execution_count": 2,
   "id": "16f4d06b",
   "metadata": {},
   "outputs": [
    {
     "name": "stdout",
     "output_type": "stream",
     "text": [
      "[[120 220 450]\n",
      " [130 240 460]\n",
      " [115 210 440]]\n"
     ]
    }
   ],
   "source": [
    "# Room prices for three cities: [Deluxe, Executive, Presidential]\n",
    "branch_prices = np.array([[120, 220, 450], \n",
    "                          [130, 240, 460], \n",
    "                          [115, 210, 440]])\n",
    "\n",
    "print(branch_prices)\n"
   ]
  },
  {
   "cell_type": "code",
   "execution_count": 3,
   "id": "11f5dc4f",
   "metadata": {},
   "outputs": [],
   "source": [
    "# Create a matrix representing monthly sales data for your restaurant across three branches. Perform basic manipulations like changing the shape or calculating the total sales.\n",
    "\n",
    "\n",
    "\n"
   ]
  },
  {
   "cell_type": "markdown",
   "id": "60b3e3ad",
   "metadata": {},
   "source": [
    "Now, you have a 3x3 matrix where each row represents a branch, and each column represents a room type.\n",
    "\n",
    "**Key Concepts:**\n",
    "\n",
    "Matrices are multidimensional arrays, perfect for handling complex datasets.\n",
    "You can perform manipulations like transposing (flipping rows and columns), reshaping, and combining matrices."
   ]
  },
  {
   "cell_type": "markdown",
   "id": "ff43262d",
   "metadata": {},
   "source": [
    "#### Indexing, Slicing, and Reshaping\n",
    "\n",
    "Let’s say you only want to analyze the room prices of the Deluxe suites across all your branches. You can use indexing to pull out just the data you need."
   ]
  },
  {
   "cell_type": "code",
   "execution_count": 4,
   "id": "91a11a73",
   "metadata": {},
   "outputs": [
    {
     "name": "stdout",
     "output_type": "stream",
     "text": [
      "[120 130 115]\n"
     ]
    }
   ],
   "source": [
    "# Extract Deluxe room prices (column 0)\n",
    "deluxe_prices = branch_prices[:, 0]\n",
    "print(deluxe_prices)\n"
   ]
  },
  {
   "cell_type": "markdown",
   "id": "289b65e7",
   "metadata": {},
   "source": [
    "**You can also slice parts of your data, like selecting the first two branches only:**"
   ]
  },
  {
   "cell_type": "code",
   "execution_count": 5,
   "id": "675902df",
   "metadata": {},
   "outputs": [
    {
     "name": "stdout",
     "output_type": "stream",
     "text": [
      "[[120 220 450]\n",
      " [130 240 460]]\n"
     ]
    }
   ],
   "source": [
    "# Slice the first two branches (rows 0 and 1)\n",
    "subset = branch_prices[0:2, :]\n",
    "print(subset)\n"
   ]
  },
  {
   "cell_type": "markdown",
   "id": "bdce10bd",
   "metadata": {},
   "source": [
    "**Need to reorganize your data? You can reshape it into different dimensions**"
   ]
  },
  {
   "cell_type": "code",
   "execution_count": 7,
   "id": "2962a0ed",
   "metadata": {},
   "outputs": [
    {
     "name": "stdout",
     "output_type": "stream",
     "text": [
      "[[120]\n",
      " [220]\n",
      " [450]\n",
      " [130]\n",
      " [240]\n",
      " [460]\n",
      " [115]\n",
      " [210]\n",
      " [440]]\n"
     ]
    }
   ],
   "source": [
    "# Reshape to a 9x1 matrix\n",
    "reshaped_prices = branch_prices.reshape(9, 1)\n",
    "print(reshaped_prices)\n"
   ]
  },
  {
   "cell_type": "markdown",
   "id": "249e444f",
   "metadata": {},
   "source": [
    "**Key Concepts:**\n",
    "\n",
    "Indexing lets you grab specific data points.\n",
    "\n",
    "Slicing allows you to take out chunks of data.\n",
    "\n",
    "Reshaping lets you reorganize your data for different analysis purposes.\n",
    "\n",
    "**Basic Arithmetic Operations**"
   ]
  },
  {
   "cell_type": "markdown",
   "id": "b771128a",
   "metadata": {},
   "source": [
    "In the hospitality industry, you often need to apply discounts or calculate totals. Numpy makes this a breeze by allowing you to perform arithmetic operations on entire arrays or matrices at once.\n",
    "\n",
    "Let’s say there’s a special 10% discount on all room prices. You can apply this discount easily:"
   ]
  },
  {
   "cell_type": "code",
   "execution_count": 8,
   "id": "89ba9f99",
   "metadata": {},
   "outputs": [
    {
     "name": "stdout",
     "output_type": "stream",
     "text": [
      "[[108.  198.  405. ]\n",
      " [117.  216.  414. ]\n",
      " [103.5 189.  396. ]]\n"
     ]
    }
   ],
   "source": [
    "# Apply a 10% discount on all prices\n",
    "discounted_prices = branch_prices * 0.9\n",
    "print(discounted_prices)\n"
   ]
  },
  {
   "cell_type": "markdown",
   "id": "930cdd79",
   "metadata": {},
   "source": [
    "##### You can also sum up your data, such as calculating the total revenue from all rooms:"
   ]
  },
  {
   "cell_type": "code",
   "execution_count": 9,
   "id": "0bb8c94e",
   "metadata": {},
   "outputs": [
    {
     "name": "stdout",
     "output_type": "stream",
     "text": [
      "[790 830 765]\n"
     ]
    }
   ],
   "source": [
    "# Calculate total room prices for each branch\n",
    "total_revenue = np.sum(branch_prices, axis=1)\n",
    "print(total_revenue)\n"
   ]
  },
  {
   "cell_type": "markdown",
   "id": "244003a7",
   "metadata": {},
   "source": [
    "**Key Concepts:**\n",
    "\n",
    "You can apply arithmetic operations like addition, multiplication, and division to arrays.\n",
    "\n",
    "Use Numpy to quickly calculate totals, averages, or apply discounts."
   ]
  },
  {
   "cell_type": "code",
   "execution_count": null,
   "id": "2e6a4ac5",
   "metadata": {},
   "outputs": [],
   "source": [
    "# Activity: Simulate applying a 15% discount to food prices in your restaurant and calculate the new total bill.\n",
    "\n",
    "\n",
    "\n"
   ]
  },
  {
   "cell_type": "markdown",
   "id": "1e2f1b46",
   "metadata": {},
   "source": [
    "####  Broadcasting — Scaling Operations Across Arrays\n",
    "\n",
    "Imagine you need to add a service fee of $20 to each room in your hotel across all branches. Instead of manually doing this for each entry, Numpy’s broadcasting feature can automatically apply this change across the entire array.\n",
    "\n"
   ]
  },
  {
   "cell_type": "code",
   "execution_count": 11,
   "id": "93698e25",
   "metadata": {},
   "outputs": [
    {
     "name": "stdout",
     "output_type": "stream",
     "text": [
      "[[140 240 470]\n",
      " [150 260 480]\n",
      " [135 230 460]]\n"
     ]
    }
   ],
   "source": [
    "# Add a service fee of $20 to all room prices\n",
    "service_fee_added = branch_prices + 20\n",
    "print(service_fee_added)\n"
   ]
  },
  {
   "cell_type": "markdown",
   "id": "e5db40c4",
   "metadata": {},
   "source": [
    "**Key Concept:**\n",
    "\n",
    "Broadcasting automatically applies operations to arrays, making it super efficient for applying changes across datasets."
   ]
  },
  {
   "cell_type": "markdown",
   "id": "3e5e3711",
   "metadata": {},
   "source": [
    "**Conclusion: You're Now a Numpy Ninja**\n",
    "\n",
    "Congratulations! You’ve learned how to use Numpy to streamline and enhance your data handling in the hospitality industry. From managing room prices to calculating discounts and total revenue, you now have the tools to make data work for you — fast and efficiently."
   ]
  },
  {
   "cell_type": "code",
   "execution_count": null,
   "id": "5c13a2bc",
   "metadata": {},
   "outputs": [],
   "source": []
  }
 ],
 "metadata": {
  "kernelspec": {
   "display_name": "Python 3 (ipykernel)",
   "language": "python",
   "name": "python3"
  },
  "language_info": {
   "codemirror_mode": {
    "name": "ipython",
    "version": 3
   },
   "file_extension": ".py",
   "mimetype": "text/x-python",
   "name": "python",
   "nbconvert_exporter": "python",
   "pygments_lexer": "ipython3",
   "version": "3.9.2"
  }
 },
 "nbformat": 4,
 "nbformat_minor": 5
}
