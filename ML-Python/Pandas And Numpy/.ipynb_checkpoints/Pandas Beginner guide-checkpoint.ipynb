{
 "cells": [
  {
   "cell_type": "markdown",
   "id": "d1764849",
   "metadata": {},
   "source": [
    "# Pandas\n",
    "    You and your team are analysts at a mobile phone company. Your manager asks you to analyze the market trends of             different mobile phone models to understand their performance based on various features"
   ]
  },
  {
   "cell_type": "markdown",
   "id": "553aa764",
   "metadata": {},
   "source": [
    "### *Reading CSV Files*\n",
    "    What's the first thing we should do when we receive a dataset?🤔🤔\n",
    "    The first step is to read the CSV file and load it into a DataFrame to inspect the data. Let's read the file and take a     look at the first few rows."
   ]
  },
  {
   "cell_type": "code",
   "execution_count": 2,
   "id": "e924a21f",
   "metadata": {},
   "outputs": [
    {
     "data": {
      "text/plain": [
       "Index(['Name', 'Rating', 'Spec_score', 'No_of_sim', 'Ram', 'Battery',\n",
       "       'Display', 'Camera', 'External_Memory', 'Android_version', 'Price',\n",
       "       'company', 'Inbuilt_memory', 'fast_charging', 'Screen_resolution',\n",
       "       'Processor', 'Processor_name'],\n",
       "      dtype='object')"
      ]
     },
     "execution_count": 2,
     "metadata": {},
     "output_type": "execute_result"
    }
   ],
   "source": [
    "import pandas as pd\n",
    "\n",
    "# Reading the CSV file\n",
    "file_path = 'mobile_data_analysis.csv'\n",
    "data = pd.read_csv(file_path)\n",
    "\n",
    "# Display the first few rows of the dataset\n",
    "data.head()\n",
    "# Display the all columns of the dataset\n",
    "data.columns"
   ]
  },
  {
   "cell_type": "code",
   "execution_count": 3,
   "id": "21978fe8",
   "metadata": {
    "scrolled": true
   },
   "outputs": [
    {
     "data": {
      "text/html": [
       "<div>\n",
       "<style scoped>\n",
       "    .dataframe tbody tr th:only-of-type {\n",
       "        vertical-align: middle;\n",
       "    }\n",
       "\n",
       "    .dataframe tbody tr th {\n",
       "        vertical-align: top;\n",
       "    }\n",
       "\n",
       "    .dataframe thead th {\n",
       "        text-align: right;\n",
       "    }\n",
       "</style>\n",
       "<table border=\"1\" class=\"dataframe\">\n",
       "  <thead>\n",
       "    <tr style=\"text-align: right;\">\n",
       "      <th></th>\n",
       "      <th>Name</th>\n",
       "      <th>Rating</th>\n",
       "      <th>Spec_score</th>\n",
       "      <th>No_of_sim</th>\n",
       "      <th>Ram</th>\n",
       "      <th>Battery</th>\n",
       "      <th>Display</th>\n",
       "      <th>Camera</th>\n",
       "      <th>External_Memory</th>\n",
       "      <th>Android_version</th>\n",
       "      <th>Price</th>\n",
       "      <th>company</th>\n",
       "      <th>Inbuilt_memory</th>\n",
       "      <th>fast_charging</th>\n",
       "      <th>Screen_resolution</th>\n",
       "      <th>Processor</th>\n",
       "      <th>Processor_name</th>\n",
       "    </tr>\n",
       "  </thead>\n",
       "  <tbody>\n",
       "    <tr>\n",
       "      <th>0</th>\n",
       "      <td>Samsung Galaxy F14 5G</td>\n",
       "      <td>4.65</td>\n",
       "      <td>68</td>\n",
       "      <td>Dual Sim, 3G, 4G, 5G, VoLTE,</td>\n",
       "      <td>4 GB RAM</td>\n",
       "      <td>6000 mAh Battery</td>\n",
       "      <td>6.6 inches</td>\n",
       "      <td>50 MP + 2 MP Dual Rear &amp;amp; 13 MP Front Camera</td>\n",
       "      <td>Memory Card Supported, upto 1 TB</td>\n",
       "      <td>13.0</td>\n",
       "      <td>9999</td>\n",
       "      <td>Samsung</td>\n",
       "      <td>128 GB inbuilt</td>\n",
       "      <td>25W Fast Charging</td>\n",
       "      <td>2408 x 1080 px Display with Water Drop Notch</td>\n",
       "      <td>Octa Core Processor</td>\n",
       "      <td>Exynos 1330</td>\n",
       "    </tr>\n",
       "    <tr>\n",
       "      <th>1</th>\n",
       "      <td>Samsung Galaxy A11</td>\n",
       "      <td>4.20</td>\n",
       "      <td>63</td>\n",
       "      <td>Dual Sim, 3G, 4G, VoLTE,</td>\n",
       "      <td>2 GB RAM</td>\n",
       "      <td>4000 mAh Battery</td>\n",
       "      <td>6.4 inches</td>\n",
       "      <td>13 MP + 5 MP + 2 MP Triple Rear &amp;amp; 8 MP Fro...</td>\n",
       "      <td>Memory Card Supported, upto 512 GB</td>\n",
       "      <td>10.0</td>\n",
       "      <td>9990</td>\n",
       "      <td>Samsung</td>\n",
       "      <td>32 GB inbuilt</td>\n",
       "      <td>15W Fast Charging</td>\n",
       "      <td>720 x 1560 px Display with Punch Hole</td>\n",
       "      <td>1.8 GHz Processor</td>\n",
       "      <td>Octa Core</td>\n",
       "    </tr>\n",
       "    <tr>\n",
       "      <th>2</th>\n",
       "      <td>Samsung Galaxy A13</td>\n",
       "      <td>4.30</td>\n",
       "      <td>75</td>\n",
       "      <td>Dual Sim, 3G, 4G, VoLTE,</td>\n",
       "      <td>4 GB RAM</td>\n",
       "      <td>5000 mAh Battery</td>\n",
       "      <td>6.6 inches</td>\n",
       "      <td>50 MP Quad Rear &amp;amp; 8 MP Front Camera</td>\n",
       "      <td>Memory Card Supported, upto 1 TB</td>\n",
       "      <td>12.0</td>\n",
       "      <td>11999</td>\n",
       "      <td>Samsung</td>\n",
       "      <td>64 GB inbuilt</td>\n",
       "      <td>25W Fast Charging</td>\n",
       "      <td>1080 x 2408 px Display with Water Drop Notch</td>\n",
       "      <td>2 GHz Processor</td>\n",
       "      <td>Octa Core</td>\n",
       "    </tr>\n",
       "    <tr>\n",
       "      <th>3</th>\n",
       "      <td>Samsung Galaxy F23</td>\n",
       "      <td>4.10</td>\n",
       "      <td>73</td>\n",
       "      <td>Dual Sim, 3G, 4G, VoLTE,</td>\n",
       "      <td>4 GB RAM</td>\n",
       "      <td>6000 mAh Battery</td>\n",
       "      <td>6.4 inches</td>\n",
       "      <td>48 MP Quad Rear &amp;amp; 13 MP Front Camera</td>\n",
       "      <td>Memory Card Supported, upto 1 TB</td>\n",
       "      <td>12.0</td>\n",
       "      <td>11999</td>\n",
       "      <td>Samsung</td>\n",
       "      <td>64 GB inbuilt</td>\n",
       "      <td>NaN</td>\n",
       "      <td>720 x 1600 px</td>\n",
       "      <td>Octa Core</td>\n",
       "      <td>Helio G88</td>\n",
       "    </tr>\n",
       "    <tr>\n",
       "      <th>4</th>\n",
       "      <td>Samsung Galaxy A03s (4GB RAM + 64GB)</td>\n",
       "      <td>4.10</td>\n",
       "      <td>69</td>\n",
       "      <td>Dual Sim, 3G, 4G, VoLTE,</td>\n",
       "      <td>4 GB RAM</td>\n",
       "      <td>5000 mAh Battery</td>\n",
       "      <td>6.5 inches</td>\n",
       "      <td>13 MP + 2 MP + 2 MP Triple Rear &amp;amp; 5 MP Fro...</td>\n",
       "      <td>Memory Card Supported, upto 1 TB</td>\n",
       "      <td>11.0</td>\n",
       "      <td>11999</td>\n",
       "      <td>Samsung</td>\n",
       "      <td>64 GB inbuilt</td>\n",
       "      <td>15W Fast Charging</td>\n",
       "      <td>720 x 1600 px Display with Water Drop Notch</td>\n",
       "      <td>Octa Core</td>\n",
       "      <td>Helio P35</td>\n",
       "    </tr>\n",
       "  </tbody>\n",
       "</table>\n",
       "</div>"
      ],
      "text/plain": [
       "                                   Name  Rating  Spec_score  \\\n",
       "0                 Samsung Galaxy F14 5G    4.65          68   \n",
       "1                    Samsung Galaxy A11    4.20          63   \n",
       "2                    Samsung Galaxy A13    4.30          75   \n",
       "3                    Samsung Galaxy F23    4.10          73   \n",
       "4  Samsung Galaxy A03s (4GB RAM + 64GB)    4.10          69   \n",
       "\n",
       "                       No_of_sim       Ram            Battery     Display  \\\n",
       "0  Dual Sim, 3G, 4G, 5G, VoLTE,   4 GB RAM  6000 mAh Battery   6.6 inches   \n",
       "1      Dual Sim, 3G, 4G, VoLTE,   2 GB RAM  4000 mAh Battery   6.4 inches   \n",
       "2      Dual Sim, 3G, 4G, VoLTE,   4 GB RAM  5000 mAh Battery   6.6 inches   \n",
       "3      Dual Sim, 3G, 4G, VoLTE,   4 GB RAM   6000 mAh Battery  6.4 inches   \n",
       "4      Dual Sim, 3G, 4G, VoLTE,   4 GB RAM  5000 mAh Battery   6.5 inches   \n",
       "\n",
       "                                              Camera  \\\n",
       "0    50 MP + 2 MP Dual Rear &amp; 13 MP Front Camera   \n",
       "1  13 MP + 5 MP + 2 MP Triple Rear &amp; 8 MP Fro...   \n",
       "2            50 MP Quad Rear &amp; 8 MP Front Camera   \n",
       "3           48 MP Quad Rear &amp; 13 MP Front Camera   \n",
       "4  13 MP + 2 MP + 2 MP Triple Rear &amp; 5 MP Fro...   \n",
       "\n",
       "                      External_Memory  Android_version  Price  company  \\\n",
       "0    Memory Card Supported, upto 1 TB             13.0   9999  Samsung   \n",
       "1  Memory Card Supported, upto 512 GB             10.0   9990  Samsung   \n",
       "2    Memory Card Supported, upto 1 TB             12.0  11999  Samsung   \n",
       "3    Memory Card Supported, upto 1 TB             12.0  11999  Samsung   \n",
       "4    Memory Card Supported, upto 1 TB             11.0  11999  Samsung   \n",
       "\n",
       "    Inbuilt_memory       fast_charging  \\\n",
       "0   128 GB inbuilt   25W Fast Charging   \n",
       "1    32 GB inbuilt   15W Fast Charging   \n",
       "2    64 GB inbuilt   25W Fast Charging   \n",
       "3    64 GB inbuilt                 NaN   \n",
       "4    64 GB inbuilt   15W Fast Charging   \n",
       "\n",
       "                               Screen_resolution             Processor  \\\n",
       "0   2408 x 1080 px Display with Water Drop Notch   Octa Core Processor   \n",
       "1          720 x 1560 px Display with Punch Hole     1.8 GHz Processor   \n",
       "2   1080 x 2408 px Display with Water Drop Notch       2 GHz Processor   \n",
       "3                                  720 x 1600 px             Octa Core   \n",
       "4    720 x 1600 px Display with Water Drop Notch             Octa Core   \n",
       "\n",
       "  Processor_name  \n",
       "0    Exynos 1330  \n",
       "1      Octa Core  \n",
       "2      Octa Core  \n",
       "3      Helio G88  \n",
       "4      Helio P35  "
      ]
     },
     "execution_count": 3,
     "metadata": {},
     "output_type": "execute_result"
    }
   ],
   "source": [
    "data.head()"
   ]
  },
  {
   "cell_type": "code",
   "execution_count": 7,
   "id": "6cab4c8a-a074-47e5-87e8-6c222613cbaf",
   "metadata": {},
   "outputs": [
    {
     "data": {
      "text/html": [
       "<div>\n",
       "<style scoped>\n",
       "    .dataframe tbody tr th:only-of-type {\n",
       "        vertical-align: middle;\n",
       "    }\n",
       "\n",
       "    .dataframe tbody tr th {\n",
       "        vertical-align: top;\n",
       "    }\n",
       "\n",
       "    .dataframe thead th {\n",
       "        text-align: right;\n",
       "    }\n",
       "</style>\n",
       "<table border=\"1\" class=\"dataframe\">\n",
       "  <thead>\n",
       "    <tr style=\"text-align: right;\">\n",
       "      <th></th>\n",
       "      <th>Name</th>\n",
       "      <th>Rating</th>\n",
       "      <th>Spec_score</th>\n",
       "      <th>No_of_sim</th>\n",
       "      <th>Ram</th>\n",
       "      <th>Battery</th>\n",
       "      <th>Display</th>\n",
       "      <th>Camera</th>\n",
       "      <th>External_Memory</th>\n",
       "      <th>Android_version</th>\n",
       "      <th>Price</th>\n",
       "      <th>company</th>\n",
       "      <th>Inbuilt_memory</th>\n",
       "      <th>fast_charging</th>\n",
       "      <th>Screen_resolution</th>\n",
       "      <th>Processor</th>\n",
       "      <th>Processor_name</th>\n",
       "    </tr>\n",
       "  </thead>\n",
       "  <tbody>\n",
       "    <tr>\n",
       "      <th>0</th>\n",
       "      <td>Samsung Galaxy F14 5G</td>\n",
       "      <td>4.65</td>\n",
       "      <td>68</td>\n",
       "      <td>Dual Sim, 3G, 4G, 5G, VoLTE,</td>\n",
       "      <td>4 GB RAM</td>\n",
       "      <td>6000 mAh Battery</td>\n",
       "      <td>6.6 inches</td>\n",
       "      <td>50 MP + 2 MP Dual Rear &amp;amp; 13 MP Front Camera</td>\n",
       "      <td>Memory Card Supported, upto 1 TB</td>\n",
       "      <td>13.0</td>\n",
       "      <td>9999</td>\n",
       "      <td>Samsung</td>\n",
       "      <td>128 GB inbuilt</td>\n",
       "      <td>25W Fast Charging</td>\n",
       "      <td>2408 x 1080 px Display with Water Drop Notch</td>\n",
       "      <td>Octa Core Processor</td>\n",
       "      <td>Exynos 1330</td>\n",
       "    </tr>\n",
       "    <tr>\n",
       "      <th>1</th>\n",
       "      <td>Samsung Galaxy A11</td>\n",
       "      <td>4.20</td>\n",
       "      <td>63</td>\n",
       "      <td>Dual Sim, 3G, 4G, VoLTE,</td>\n",
       "      <td>2 GB RAM</td>\n",
       "      <td>4000 mAh Battery</td>\n",
       "      <td>6.4 inches</td>\n",
       "      <td>13 MP + 5 MP + 2 MP Triple Rear &amp;amp; 8 MP Fro...</td>\n",
       "      <td>Memory Card Supported, upto 512 GB</td>\n",
       "      <td>10.0</td>\n",
       "      <td>9990</td>\n",
       "      <td>Samsung</td>\n",
       "      <td>32 GB inbuilt</td>\n",
       "      <td>15W Fast Charging</td>\n",
       "      <td>720 x 1560 px Display with Punch Hole</td>\n",
       "      <td>1.8 GHz Processor</td>\n",
       "      <td>Octa Core</td>\n",
       "    </tr>\n",
       "  </tbody>\n",
       "</table>\n",
       "</div>"
      ],
      "text/plain": [
       "                    Name  Rating  Spec_score                      No_of_sim  \\\n",
       "0  Samsung Galaxy F14 5G    4.65          68  Dual Sim, 3G, 4G, 5G, VoLTE,    \n",
       "1     Samsung Galaxy A11    4.20          63      Dual Sim, 3G, 4G, VoLTE,    \n",
       "\n",
       "        Ram            Battery     Display  \\\n",
       "0  4 GB RAM  6000 mAh Battery   6.6 inches   \n",
       "1  2 GB RAM  4000 mAh Battery   6.4 inches   \n",
       "\n",
       "                                              Camera  \\\n",
       "0    50 MP + 2 MP Dual Rear &amp; 13 MP Front Camera   \n",
       "1  13 MP + 5 MP + 2 MP Triple Rear &amp; 8 MP Fro...   \n",
       "\n",
       "                      External_Memory  Android_version  Price  company  \\\n",
       "0    Memory Card Supported, upto 1 TB             13.0   9999  Samsung   \n",
       "1  Memory Card Supported, upto 512 GB             10.0   9990  Samsung   \n",
       "\n",
       "    Inbuilt_memory       fast_charging  \\\n",
       "0   128 GB inbuilt   25W Fast Charging   \n",
       "1    32 GB inbuilt   15W Fast Charging   \n",
       "\n",
       "                               Screen_resolution             Processor  \\\n",
       "0   2408 x 1080 px Display with Water Drop Notch   Octa Core Processor   \n",
       "1          720 x 1560 px Display with Punch Hole     1.8 GHz Processor   \n",
       "\n",
       "  Processor_name  \n",
       "0    Exynos 1330  \n",
       "1      Octa Core  "
      ]
     },
     "execution_count": 7,
     "metadata": {},
     "output_type": "execute_result"
    }
   ],
   "source": [
    "## Can pass the number of rows as the arguments into the head\n",
    "data.head(2)"
   ]
  },
  {
   "cell_type": "code",
   "execution_count": 5,
   "id": "86774a76-7bd9-4373-95b1-41d755421d59",
   "metadata": {
    "scrolled": true
   },
   "outputs": [
    {
     "data": {
      "text/html": [
       "<div>\n",
       "<style scoped>\n",
       "    .dataframe tbody tr th:only-of-type {\n",
       "        vertical-align: middle;\n",
       "    }\n",
       "\n",
       "    .dataframe tbody tr th {\n",
       "        vertical-align: top;\n",
       "    }\n",
       "\n",
       "    .dataframe thead th {\n",
       "        text-align: right;\n",
       "    }\n",
       "</style>\n",
       "<table border=\"1\" class=\"dataframe\">\n",
       "  <thead>\n",
       "    <tr style=\"text-align: right;\">\n",
       "      <th></th>\n",
       "      <th>Name</th>\n",
       "      <th>Rating</th>\n",
       "      <th>Spec_score</th>\n",
       "      <th>No_of_sim</th>\n",
       "      <th>Ram</th>\n",
       "      <th>Battery</th>\n",
       "      <th>Display</th>\n",
       "      <th>Camera</th>\n",
       "      <th>External_Memory</th>\n",
       "      <th>Android_version</th>\n",
       "      <th>Price</th>\n",
       "      <th>company</th>\n",
       "      <th>Inbuilt_memory</th>\n",
       "      <th>fast_charging</th>\n",
       "      <th>Screen_resolution</th>\n",
       "      <th>Processor</th>\n",
       "      <th>Processor_name</th>\n",
       "    </tr>\n",
       "  </thead>\n",
       "  <tbody>\n",
       "    <tr>\n",
       "      <th>1365</th>\n",
       "      <td>TCL 40R</td>\n",
       "      <td>4.05</td>\n",
       "      <td>75</td>\n",
       "      <td>Dual Sim, 3G, 4G, 5G, VoLTE,</td>\n",
       "      <td>4 GB RAM</td>\n",
       "      <td>5000 mAh Battery</td>\n",
       "      <td>6.6 inches</td>\n",
       "      <td>50 MP + 2 MP + 2 MP Triple Rear &amp;amp; 8 MP Fro...</td>\n",
       "      <td>Memory Card (Hybrid)</td>\n",
       "      <td>12.0</td>\n",
       "      <td>18999</td>\n",
       "      <td>TCL</td>\n",
       "      <td>64 GB inbuilt</td>\n",
       "      <td>15W Fast Charging</td>\n",
       "      <td>720 x 1612 px</td>\n",
       "      <td>Octa Core</td>\n",
       "      <td>Dimensity 700 5G</td>\n",
       "    </tr>\n",
       "    <tr>\n",
       "      <th>1366</th>\n",
       "      <td>TCL 50 XL NxtPaper 5G</td>\n",
       "      <td>4.10</td>\n",
       "      <td>80</td>\n",
       "      <td>Dual Sim, 3G, 4G, VoLTE,</td>\n",
       "      <td>8 GB RAM</td>\n",
       "      <td>5000 mAh Battery</td>\n",
       "      <td>6.8 inches</td>\n",
       "      <td>50 MP + 2 MP Dual Rear &amp;amp; 16 MP Front Camera</td>\n",
       "      <td>Memory Card (Hybrid)</td>\n",
       "      <td>14.0</td>\n",
       "      <td>24990</td>\n",
       "      <td>TCL</td>\n",
       "      <td>128 GB inbuilt</td>\n",
       "      <td>33W Fast Charging</td>\n",
       "      <td>1200 x 2400 px</td>\n",
       "      <td>Octa Core</td>\n",
       "      <td>Dimensity 7050</td>\n",
       "    </tr>\n",
       "    <tr>\n",
       "      <th>1367</th>\n",
       "      <td>TCL 50 XE NxtPaper 5G</td>\n",
       "      <td>4.00</td>\n",
       "      <td>80</td>\n",
       "      <td>Dual Sim, 3G, 4G, 5G, VoLTE,</td>\n",
       "      <td>6 GB RAM</td>\n",
       "      <td>5000 mAh Battery</td>\n",
       "      <td>6.6 inches</td>\n",
       "      <td>50 MP + 2 MP Dual Rear &amp;amp; 16 MP Front Camera</td>\n",
       "      <td>Memory Card Supported, upto 1 TB</td>\n",
       "      <td>13.0</td>\n",
       "      <td>23990</td>\n",
       "      <td>TCL</td>\n",
       "      <td>256 GB inbuilt</td>\n",
       "      <td>18W Fast Charging</td>\n",
       "      <td>720 x 1612 px</td>\n",
       "      <td>Octa Core</td>\n",
       "      <td>Dimensity 6080</td>\n",
       "    </tr>\n",
       "    <tr>\n",
       "      <th>1368</th>\n",
       "      <td>TCL 40 NxtPaper 5G</td>\n",
       "      <td>4.50</td>\n",
       "      <td>79</td>\n",
       "      <td>Dual Sim, 3G, 4G, 5G, VoLTE,</td>\n",
       "      <td>6 GB RAM</td>\n",
       "      <td>5000 mAh Battery</td>\n",
       "      <td>6.6 inches</td>\n",
       "      <td>50 MP + 2 MP + 2 MP Triple Rear &amp;amp; 8 MP Fro...</td>\n",
       "      <td>Memory Card Supported, upto 1 TB</td>\n",
       "      <td>13.0</td>\n",
       "      <td>22499</td>\n",
       "      <td>TCL</td>\n",
       "      <td>256 GB inbuilt</td>\n",
       "      <td>15W Fast Charging</td>\n",
       "      <td>720 x 1612 px</td>\n",
       "      <td>Octa Core</td>\n",
       "      <td>Dimensity 6020</td>\n",
       "    </tr>\n",
       "    <tr>\n",
       "      <th>1369</th>\n",
       "      <td>TCL Trifold</td>\n",
       "      <td>4.65</td>\n",
       "      <td>93</td>\n",
       "      <td>Dual Sim, 3G, 4G, 5G, VoLTE, Vo5G,</td>\n",
       "      <td>12 GB RAM</td>\n",
       "      <td>4600 mAh Battery</td>\n",
       "      <td>10 inches</td>\n",
       "      <td>Foldable Display, Dual Display</td>\n",
       "      <td>50 MP + 48 MP + 8 MP Triple Rear &amp;amp; 32 MP F...</td>\n",
       "      <td>13.0</td>\n",
       "      <td>119990</td>\n",
       "      <td>TCL</td>\n",
       "      <td>256 GB inbuilt</td>\n",
       "      <td>67W Fast Charging</td>\n",
       "      <td>1916 x 2160 px</td>\n",
       "      <td>Octa Core</td>\n",
       "      <td>Snapdragon 8 Gen2</td>\n",
       "    </tr>\n",
       "  </tbody>\n",
       "</table>\n",
       "</div>"
      ],
      "text/plain": [
       "                       Name  Rating  Spec_score  \\\n",
       "1365                TCL 40R    4.05          75   \n",
       "1366  TCL 50 XL NxtPaper 5G    4.10          80   \n",
       "1367  TCL 50 XE NxtPaper 5G    4.00          80   \n",
       "1368     TCL 40 NxtPaper 5G    4.50          79   \n",
       "1369            TCL Trifold    4.65          93   \n",
       "\n",
       "                                No_of_sim        Ram            Battery  \\\n",
       "1365        Dual Sim, 3G, 4G, 5G, VoLTE,    4 GB RAM  5000 mAh Battery    \n",
       "1366            Dual Sim, 3G, 4G, VoLTE,    8 GB RAM  5000 mAh Battery    \n",
       "1367        Dual Sim, 3G, 4G, 5G, VoLTE,    6 GB RAM  5000 mAh Battery    \n",
       "1368        Dual Sim, 3G, 4G, 5G, VoLTE,    6 GB RAM  5000 mAh Battery    \n",
       "1369  Dual Sim, 3G, 4G, 5G, VoLTE, Vo5G,   12 GB RAM  4600 mAh Battery    \n",
       "\n",
       "         Display                                             Camera  \\\n",
       "1365  6.6 inches  50 MP + 2 MP + 2 MP Triple Rear &amp; 8 MP Fro...   \n",
       "1366  6.8 inches    50 MP + 2 MP Dual Rear &amp; 16 MP Front Camera   \n",
       "1367  6.6 inches    50 MP + 2 MP Dual Rear &amp; 16 MP Front Camera   \n",
       "1368  6.6 inches  50 MP + 2 MP + 2 MP Triple Rear &amp; 8 MP Fro...   \n",
       "1369   10 inches                     Foldable Display, Dual Display   \n",
       "\n",
       "                                        External_Memory  Android_version  \\\n",
       "1365                               Memory Card (Hybrid)             12.0   \n",
       "1366                               Memory Card (Hybrid)             14.0   \n",
       "1367                   Memory Card Supported, upto 1 TB             13.0   \n",
       "1368                   Memory Card Supported, upto 1 TB             13.0   \n",
       "1369  50 MP + 48 MP + 8 MP Triple Rear &amp; 32 MP F...             13.0   \n",
       "\n",
       "       Price company   Inbuilt_memory       fast_charging Screen_resolution  \\\n",
       "1365   18999     TCL    64 GB inbuilt   15W Fast Charging     720 x 1612 px   \n",
       "1366   24990     TCL   128 GB inbuilt   33W Fast Charging    1200 x 2400 px   \n",
       "1367   23990     TCL   256 GB inbuilt   18W Fast Charging     720 x 1612 px   \n",
       "1368   22499     TCL   256 GB inbuilt   15W Fast Charging     720 x 1612 px   \n",
       "1369  119990     TCL   256 GB inbuilt   67W Fast Charging    1916 x 2160 px   \n",
       "\n",
       "       Processor     Processor_name  \n",
       "1365   Octa Core   Dimensity 700 5G  \n",
       "1366   Octa Core     Dimensity 7050  \n",
       "1367   Octa Core     Dimensity 6080  \n",
       "1368   Octa Core     Dimensity 6020  \n",
       "1369   Octa Core  Snapdragon 8 Gen2  "
      ]
     },
     "execution_count": 5,
     "metadata": {},
     "output_type": "execute_result"
    }
   ],
   "source": [
    "## Last 5 records of dataframe\n",
    "data.tail()"
   ]
  },
  {
   "cell_type": "code",
   "execution_count": 8,
   "id": "59b8443b",
   "metadata": {},
   "outputs": [
    {
     "data": {
      "text/plain": [
       "Index(['Name', 'Rating', 'Spec_score', 'No_of_sim', 'Ram', 'Battery',\n",
       "       'Display', 'Camera', 'External_Memory', 'Android_version', 'Price',\n",
       "       'company', 'Inbuilt_memory', 'fast_charging', 'Screen_resolution',\n",
       "       'Processor', 'Processor_name'],\n",
       "      dtype='object')"
      ]
     },
     "execution_count": 8,
     "metadata": {},
     "output_type": "execute_result"
    }
   ],
   "source": [
    "# Display the all columns of the dataset\n",
    "data.columns"
   ]
  },
  {
   "cell_type": "markdown",
   "id": "2ec8e198",
   "metadata": {},
   "source": [
    "    Our dataset contains various columns like 'Name', 'Rating', 'Spec_score', 'No_of_sim', 'Ram', 'Battery', 'Display',         'Camera', 'External_Memory', 'Android_version', 'Price', 'company', 'Inbuilt_memory', 'fast_charging',                     'Screen_resolution', 'Processor',and 'Processor_name'. Each row represents a different mobile phone"
   ]
  },
  {
   "cell_type": "code",
   "execution_count": 9,
   "id": "afa1fbeb",
   "metadata": {
    "scrolled": true
   },
   "outputs": [
    {
     "name": "stdout",
     "output_type": "stream",
     "text": [
      "\n",
      "Reading Specific Columns:\n",
      "         Ram            Battery  Price\n",
      "0  4 GB RAM  6000 mAh Battery    9999\n",
      "1  2 GB RAM  4000 mAh Battery    9990\n",
      "2  4 GB RAM  5000 mAh Battery   11999\n",
      "3  4 GB RAM   6000 mAh Battery  11999\n",
      "4  4 GB RAM  5000 mAh Battery   11999\n",
      "\n",
      "Reading with Index Column:\n",
      "                                       Rating  Spec_score  \\\n",
      "Name                                                       \n",
      "Samsung Galaxy F14 5G                   4.65          68   \n",
      "Samsung Galaxy A11                      4.20          63   \n",
      "Samsung Galaxy A13                      4.30          75   \n",
      "Samsung Galaxy F23                      4.10          73   \n",
      "Samsung Galaxy A03s (4GB RAM + 64GB)    4.10          69   \n",
      "\n",
      "                                                          No_of_sim       Ram  \\\n",
      "Name                                                                            \n",
      "Samsung Galaxy F14 5G                 Dual Sim, 3G, 4G, 5G, VoLTE,   4 GB RAM   \n",
      "Samsung Galaxy A11                        Dual Sim, 3G, 4G, VoLTE,   2 GB RAM   \n",
      "Samsung Galaxy A13                        Dual Sim, 3G, 4G, VoLTE,   4 GB RAM   \n",
      "Samsung Galaxy F23                        Dual Sim, 3G, 4G, VoLTE,   4 GB RAM   \n",
      "Samsung Galaxy A03s (4GB RAM + 64GB)      Dual Sim, 3G, 4G, VoLTE,   4 GB RAM   \n",
      "\n",
      "                                                Battery     Display  \\\n",
      "Name                                                                  \n",
      "Samsung Galaxy F14 5G                 6000 mAh Battery   6.6 inches   \n",
      "Samsung Galaxy A11                    4000 mAh Battery   6.4 inches   \n",
      "Samsung Galaxy A13                    5000 mAh Battery   6.6 inches   \n",
      "Samsung Galaxy F23                     6000 mAh Battery  6.4 inches   \n",
      "Samsung Galaxy A03s (4GB RAM + 64GB)  5000 mAh Battery   6.5 inches   \n",
      "\n",
      "                                                                                 Camera  \\\n",
      "Name                                                                                      \n",
      "Samsung Galaxy F14 5G                   50 MP + 2 MP Dual Rear &amp; 13 MP Front Camera   \n",
      "Samsung Galaxy A11                    13 MP + 5 MP + 2 MP Triple Rear &amp; 8 MP Fro...   \n",
      "Samsung Galaxy A13                              50 MP Quad Rear &amp; 8 MP Front Camera   \n",
      "Samsung Galaxy F23                             48 MP Quad Rear &amp; 13 MP Front Camera   \n",
      "Samsung Galaxy A03s (4GB RAM + 64GB)  13 MP + 2 MP + 2 MP Triple Rear &amp; 5 MP Fro...   \n",
      "\n",
      "                                                         External_Memory  \\\n",
      "Name                                                                       \n",
      "Samsung Galaxy F14 5G                   Memory Card Supported, upto 1 TB   \n",
      "Samsung Galaxy A11                    Memory Card Supported, upto 512 GB   \n",
      "Samsung Galaxy A13                      Memory Card Supported, upto 1 TB   \n",
      "Samsung Galaxy F23                      Memory Card Supported, upto 1 TB   \n",
      "Samsung Galaxy A03s (4GB RAM + 64GB)    Memory Card Supported, upto 1 TB   \n",
      "\n",
      "                                      Android_version  Price  company  \\\n",
      "Name                                                                    \n",
      "Samsung Galaxy F14 5G                            13.0   9999  Samsung   \n",
      "Samsung Galaxy A11                               10.0   9990  Samsung   \n",
      "Samsung Galaxy A13                               12.0  11999  Samsung   \n",
      "Samsung Galaxy F23                               12.0  11999  Samsung   \n",
      "Samsung Galaxy A03s (4GB RAM + 64GB)             11.0  11999  Samsung   \n",
      "\n",
      "                                       Inbuilt_memory       fast_charging  \\\n",
      "Name                                                                        \n",
      "Samsung Galaxy F14 5G                  128 GB inbuilt   25W Fast Charging   \n",
      "Samsung Galaxy A11                      32 GB inbuilt   15W Fast Charging   \n",
      "Samsung Galaxy A13                      64 GB inbuilt   25W Fast Charging   \n",
      "Samsung Galaxy F23                      64 GB inbuilt                 NaN   \n",
      "Samsung Galaxy A03s (4GB RAM + 64GB)    64 GB inbuilt   15W Fast Charging   \n",
      "\n",
      "                                                                  Screen_resolution  \\\n",
      "Name                                                                                  \n",
      "Samsung Galaxy F14 5G                  2408 x 1080 px Display with Water Drop Notch   \n",
      "Samsung Galaxy A11                            720 x 1560 px Display with Punch Hole   \n",
      "Samsung Galaxy A13                     1080 x 2408 px Display with Water Drop Notch   \n",
      "Samsung Galaxy F23                                                    720 x 1600 px   \n",
      "Samsung Galaxy A03s (4GB RAM + 64GB)    720 x 1600 px Display with Water Drop Notch   \n",
      "\n",
      "                                                 Processor Processor_name  \n",
      "Name                                                                       \n",
      "Samsung Galaxy F14 5G                  Octa Core Processor    Exynos 1330  \n",
      "Samsung Galaxy A11                       1.8 GHz Processor      Octa Core  \n",
      "Samsung Galaxy A13                         2 GHz Processor      Octa Core  \n",
      "Samsung Galaxy F23                               Octa Core      Helio G88  \n",
      "Samsung Galaxy A03s (4GB RAM + 64GB)             Octa Core      Helio P35  \n",
      "\n",
      "Reading with Missing Values Handling:\n",
      "                                    Name  Rating  Spec_score  \\\n",
      "0                 Samsung Galaxy F14 5G    4.65          68   \n",
      "1                    Samsung Galaxy A11    4.20          63   \n",
      "2                    Samsung Galaxy A13    4.30          75   \n",
      "3                    Samsung Galaxy F23    4.10          73   \n",
      "4  Samsung Galaxy A03s (4GB RAM + 64GB)    4.10          69   \n",
      "\n",
      "                       No_of_sim       Ram            Battery     Display  \\\n",
      "0  Dual Sim, 3G, 4G, 5G, VoLTE,   4 GB RAM  6000 mAh Battery   6.6 inches   \n",
      "1      Dual Sim, 3G, 4G, VoLTE,   2 GB RAM  4000 mAh Battery   6.4 inches   \n",
      "2      Dual Sim, 3G, 4G, VoLTE,   4 GB RAM  5000 mAh Battery   6.6 inches   \n",
      "3      Dual Sim, 3G, 4G, VoLTE,   4 GB RAM   6000 mAh Battery  6.4 inches   \n",
      "4      Dual Sim, 3G, 4G, VoLTE,   4 GB RAM  5000 mAh Battery   6.5 inches   \n",
      "\n",
      "                                              Camera  \\\n",
      "0    50 MP + 2 MP Dual Rear &amp; 13 MP Front Camera   \n",
      "1  13 MP + 5 MP + 2 MP Triple Rear &amp; 8 MP Fro...   \n",
      "2            50 MP Quad Rear &amp; 8 MP Front Camera   \n",
      "3           48 MP Quad Rear &amp; 13 MP Front Camera   \n",
      "4  13 MP + 2 MP + 2 MP Triple Rear &amp; 5 MP Fro...   \n",
      "\n",
      "                      External_Memory  Android_version  Price  company  \\\n",
      "0    Memory Card Supported, upto 1 TB             13.0   9999  Samsung   \n",
      "1  Memory Card Supported, upto 512 GB             10.0   9990  Samsung   \n",
      "2    Memory Card Supported, upto 1 TB             12.0  11999  Samsung   \n",
      "3    Memory Card Supported, upto 1 TB             12.0  11999  Samsung   \n",
      "4    Memory Card Supported, upto 1 TB             11.0  11999  Samsung   \n",
      "\n",
      "    Inbuilt_memory       fast_charging  \\\n",
      "0   128 GB inbuilt   25W Fast Charging   \n",
      "1    32 GB inbuilt   15W Fast Charging   \n",
      "2    64 GB inbuilt   25W Fast Charging   \n",
      "3    64 GB inbuilt                 NaN   \n",
      "4    64 GB inbuilt   15W Fast Charging   \n",
      "\n",
      "                               Screen_resolution             Processor  \\\n",
      "0   2408 x 1080 px Display with Water Drop Notch   Octa Core Processor   \n",
      "1          720 x 1560 px Display with Punch Hole     1.8 GHz Processor   \n",
      "2   1080 x 2408 px Display with Water Drop Notch       2 GHz Processor   \n",
      "3                                  720 x 1600 px             Octa Core   \n",
      "4    720 x 1600 px Display with Water Drop Notch             Octa Core   \n",
      "\n",
      "  Processor_name  \n",
      "0    Exynos 1330  \n",
      "1      Octa Core  \n",
      "2      Octa Core  \n",
      "3      Helio G88  \n",
      "4      Helio P35  \n"
     ]
    }
   ],
   "source": [
    "# Reading with specific columns\n",
    "data_selected_columns = pd.read_csv(file_path, usecols=['Battery', 'Ram', 'Price'])\n",
    "print(\"\\nReading Specific Columns:\\n\", data_selected_columns.head())\n",
    "\n",
    "# Reading with index column\n",
    "data_with_index = pd.read_csv(file_path, index_col='Name')\n",
    "print(\"\\nReading with Index Column:\\n\", data_with_index.head())\n",
    "\n",
    "# Reading with missing values handling\n",
    "data_missing_values = pd.read_csv(file_path, na_values=['NA', 'n/a', ''])\n",
    "print(\"\\nReading with Missing Values Handling:\\n\", data_missing_values.head())"
   ]
  },
  {
   "cell_type": "markdown",
   "id": "50561b0e",
   "metadata": {},
   "source": [
    "### *Loading Python Data Objects*\n",
    "You know, there's a common misconception😦 that data always comes in csv files. But in reality, data can be stored in       various formats, and that's why we have different functions to read them. It's not just about csv – we can handle           excel files, SQL databases, JSON files, and more. The flexibility to read data from multiple sources is really             important in data analysis🥳"
   ]
  },
  {
   "cell_type": "markdown",
   "id": "30acede4",
   "metadata": {},
   "source": [
    "    A dataset can be loaded from various data sources using relevant Pandas constructs (functions) as mentioned below:\n",
    "    CSV file - read_csv() function\n",
    "    JSON file - read_json() function\n",
    "    Excel file - read_excel() function\n",
    "    Database table - read_sql() function\n",
    "    All the above functions return a dataframe object and most of these functions have a parameter called 'chunksize'.\n",
    "    e.g. to load a csv data file (mobile phone price prediction.csv) you can use the below code\n",
    "    data = pd.read_csv(file_path)"
   ]
  },
  {
   "cell_type": "markdown",
   "id": "f77fc78f-e3d7-4105-a22b-3eeb4c70ad92",
   "metadata": {},
   "source": [
    "### *Reading JSON Files*"
   ]
  },
  {
   "cell_type": "code",
   "execution_count": 11,
   "id": "3f591b06-6172-40b3-877d-792ec29b92b4",
   "metadata": {},
   "outputs": [
    {
     "data": {
      "text/html": [
       "<div>\n",
       "<style scoped>\n",
       "    .dataframe tbody tr th:only-of-type {\n",
       "        vertical-align: middle;\n",
       "    }\n",
       "\n",
       "    .dataframe tbody tr th {\n",
       "        vertical-align: top;\n",
       "    }\n",
       "\n",
       "    .dataframe thead th {\n",
       "        text-align: right;\n",
       "    }\n",
       "</style>\n",
       "<table border=\"1\" class=\"dataframe\">\n",
       "  <thead>\n",
       "    <tr style=\"text-align: right;\">\n",
       "      <th></th>\n",
       "      <th>id</th>\n",
       "      <th>name</th>\n",
       "      <th>gender</th>\n",
       "      <th>designation</th>\n",
       "      <th>salary</th>\n",
       "      <th>experience</th>\n",
       "      <th>state</th>\n",
       "    </tr>\n",
       "  </thead>\n",
       "  <tbody>\n",
       "    <tr>\n",
       "      <th>0</th>\n",
       "      <td>1</td>\n",
       "      <td>Alice Johnson</td>\n",
       "      <td>Female</td>\n",
       "      <td>Software Engineer</td>\n",
       "      <td>85000</td>\n",
       "      <td>5</td>\n",
       "      <td>California</td>\n",
       "    </tr>\n",
       "    <tr>\n",
       "      <th>1</th>\n",
       "      <td>2</td>\n",
       "      <td>Bob Smith</td>\n",
       "      <td>Male</td>\n",
       "      <td>Data Scientist</td>\n",
       "      <td>95000</td>\n",
       "      <td>7</td>\n",
       "      <td>Texas</td>\n",
       "    </tr>\n",
       "    <tr>\n",
       "      <th>2</th>\n",
       "      <td>3</td>\n",
       "      <td>Charlie Brown</td>\n",
       "      <td>Male</td>\n",
       "      <td>Project Manager</td>\n",
       "      <td>110000</td>\n",
       "      <td>10</td>\n",
       "      <td>New York</td>\n",
       "    </tr>\n",
       "    <tr>\n",
       "      <th>3</th>\n",
       "      <td>4</td>\n",
       "      <td>Diana Prince</td>\n",
       "      <td>Female</td>\n",
       "      <td>HR Manager</td>\n",
       "      <td>78000</td>\n",
       "      <td>6</td>\n",
       "      <td>Florida</td>\n",
       "    </tr>\n",
       "    <tr>\n",
       "      <th>4</th>\n",
       "      <td>5</td>\n",
       "      <td>Edward Norton</td>\n",
       "      <td>Male</td>\n",
       "      <td>DevOps Engineer</td>\n",
       "      <td>92000</td>\n",
       "      <td>8</td>\n",
       "      <td>Washington</td>\n",
       "    </tr>\n",
       "  </tbody>\n",
       "</table>\n",
       "</div>"
      ],
      "text/plain": [
       "   id           name  gender        designation  salary  experience  \\\n",
       "0   1  Alice Johnson  Female  Software Engineer   85000           5   \n",
       "1   2      Bob Smith    Male     Data Scientist   95000           7   \n",
       "2   3  Charlie Brown    Male    Project Manager  110000          10   \n",
       "3   4   Diana Prince  Female         HR Manager   78000           6   \n",
       "4   5  Edward Norton    Male    DevOps Engineer   92000           8   \n",
       "\n",
       "        state  \n",
       "0  California  \n",
       "1       Texas  \n",
       "2    New York  \n",
       "3     Florida  \n",
       "4  Washington  "
      ]
     },
     "execution_count": 11,
     "metadata": {},
     "output_type": "execute_result"
    }
   ],
   "source": [
    "# Load the JSON file into a DataFrame\n",
    "df_employee = pd.read_json('employee.json')\n",
    "\n",
    "# Display the DataFrame\n",
    "df_employee.head()"
   ]
  },
  {
   "cell_type": "markdown",
   "id": "9f931401",
   "metadata": {},
   "source": [
    "### *Understanding the Data🤓*\n",
    "You look at the data and notice columns like 'Name', 'Rating', 'Spec_score', 'Ram', 'Battery', and many others.\n",
    "    Question: How can we understand the structure and types of data we're dealing with?\n",
    "    We can use methods like shape , info() and describe() to get a better understanding of the data."
   ]
  },
  {
   "cell_type": "code",
   "execution_count": 15,
   "id": "959c5df3-2e4a-417d-a692-f6eec86713d1",
   "metadata": {},
   "outputs": [
    {
     "data": {
      "text/plain": [
       "(1370, 17)"
      ]
     },
     "execution_count": 15,
     "metadata": {},
     "output_type": "execute_result"
    }
   ],
   "source": [
    "data.shape"
   ]
  },
  {
   "cell_type": "code",
   "execution_count": 18,
   "id": "c787abad",
   "metadata": {
    "scrolled": true
   },
   "outputs": [
    {
     "name": "stdout",
     "output_type": "stream",
     "text": [
      "<class 'pandas.core.frame.DataFrame'>\n",
      "RangeIndex: 1370 entries, 0 to 1369\n",
      "Data columns (total 17 columns):\n",
      " #   Column             Non-Null Count  Dtype  \n",
      "---  ------             --------------  -----  \n",
      " 0   Name               1370 non-null   object \n",
      " 1   Rating             1370 non-null   float64\n",
      " 2   Spec_score         1370 non-null   int64  \n",
      " 3   No_of_sim          1370 non-null   object \n",
      " 4   Ram                1370 non-null   object \n",
      " 5   Battery            1370 non-null   object \n",
      " 6   Display            1370 non-null   object \n",
      " 7   Camera             1370 non-null   object \n",
      " 8   External_Memory    1370 non-null   object \n",
      " 9   Android_version    1370 non-null   float64\n",
      " 10  Price              1370 non-null   int64  \n",
      " 11  company            1370 non-null   object \n",
      " 12  Inbuilt_memory     1351 non-null   object \n",
      " 13  fast_charging      1281 non-null   object \n",
      " 14  Screen_resolution  1368 non-null   object \n",
      " 15  Processor          1342 non-null   object \n",
      " 16  Processor_name     1370 non-null   object \n",
      "dtypes: float64(2), int64(2), object(13)\n",
      "memory usage: 182.1+ KB\n",
      "None\n"
     ]
    }
   ],
   "source": [
    "# Displaying information about the DataFrame\n",
    "\"\"\"\n",
    "1. Gives data type information about all the columns in the dataframe\n",
    "2. Given count of NOT NULL values for each column\n",
    "\"\"\"\n",
    "print(data.info())"
   ]
  },
  {
   "cell_type": "code",
   "execution_count": 19,
   "id": "b764e3c0-937a-4689-bf07-ff14b77173e5",
   "metadata": {},
   "outputs": [
    {
     "name": "stdout",
     "output_type": "stream",
     "text": [
      "            Rating   Spec_score  Android_version          Price\n",
      "count  1370.000000  1370.000000      1370.000000    1370.000000\n",
      "mean      4.374416    80.234307        12.130529   33436.740876\n",
      "std       0.230176     8.373922         1.621893   30452.065430\n",
      "min       3.750000    42.000000         2.000000    6950.000000\n",
      "25%       4.150000    75.000000        12.000000   12990.000000\n",
      "50%       4.400000    82.000000        12.130529   21999.000000\n",
      "75%       4.550000    86.000000        13.000000   42990.000000\n",
      "max       4.750000    98.000000        15.000000  214990.000000\n"
     ]
    }
   ],
   "source": [
    "# Descriptive statistics of numerical columns\n",
    "\"\"\"\n",
    "1. Only Gives Descriptive statistics for numerical columns\n",
    "2. It includes below informations\n",
    "  * count\n",
    "  * mean\n",
    "  * standard deviation\n",
    "  * minimum\n",
    "  * 25% quantile\n",
    "  * 50% quantile\n",
    "  * 75% quantile\n",
    "  * maximum\n",
    "\"\"\"\n",
    "print(data.describe())"
   ]
  },
  {
   "cell_type": "markdown",
   "id": "30040510",
   "metadata": {},
   "source": [
    "### *Performing Arithmetic Operations - Crunching Numbers*\n",
    "Our next adventure involves performing arithmetic operations. Suppose we want to understand how doubling the price         impacts our dataset. Let’s create a new column for this."
   ]
  },
  {
   "cell_type": "code",
   "execution_count": null,
   "id": "7fafc974",
   "metadata": {},
   "outputs": [],
   "source": [
    "# Creating a new column with doubled Price\n",
    "data['Double_Price'] = data['Price'] * 2\n",
    "\n",
    "# Display the first few rows to see the new column\n",
    "print(data[['Price', 'Double_Price']].head())\n"
   ]
  },
  {
   "cell_type": "markdown",
   "id": "e121d898",
   "metadata": {},
   "source": [
    "Here, we multiply the 'Price' column by 2 and store it in a new column 'Double_Price'. This simple operation opens the    door to more complex analysis."
   ]
  },
  {
   "cell_type": "markdown",
   "id": "542cb5d4",
   "metadata": {},
   "source": [
    "Can we do other arithmetic operations as well?\"🫤\n",
    "\n",
    "Absolutely!😊 We can add, subtract, multiply, or divide columns. Let's create a column showing the sum of 'Ram' and           'Battery'."
   ]
  },
  {
   "cell_type": "code",
   "execution_count": null,
   "id": "f10524c3",
   "metadata": {},
   "outputs": [],
   "source": [
    "# Creating a new column with the sum of Ram and Battery\n",
    "data['Ram_Battery_Sum'] = data['Ram'] + data['Battery']\n",
    "\n",
    "# Display the first few rows to see the new column\n",
    "print(data[['Ram', 'Battery', 'Ram_Battery_Sum']].head())\n"
   ]
  },
  {
   "cell_type": "markdown",
   "id": "76b87705",
   "metadata": {},
   "source": [
    "### *Focusing the Lens - Selecting Data*\n",
    "To find valuable insights, we often need to focus on specific parts of our data. For example, let’s select only the        Name', 'Price', and 'Ram' columns."
   ]
  },
  {
   "cell_type": "code",
   "execution_count": null,
   "id": "b977d05c",
   "metadata": {},
   "outputs": [],
   "source": [
    "# Selecting specific columns\n",
    "selected_columns = data[['Name', 'Price', 'Ram']]\n",
    "\n",
    "# Display the selected columns\n",
    "print(selected_columns.head())"
   ]
  },
  {
   "cell_type": "markdown",
   "id": "2b11a6a2",
   "metadata": {},
   "source": [
    "This is cool!😁 How about selecting rows based on multiple conditions\n",
    "     \n",
    "This step helps us concentrate on the most relevant data for our analysis. Next, we’ll narrow down our rows to high-        priced phones\n",
    "     \n",
    "Let’s select phones with 'Price' greater than 20000 and 'Rating' greater than 4 .\"\n",
    "      "
   ]
  },
  {
   "cell_type": "code",
   "execution_count": null,
   "id": "e967c274",
   "metadata": {},
   "outputs": [],
   "source": [
    "# Selecting rows based on multiple conditions\n",
    "high_price_high_rating_phones = data[(data['Price'] > 200) & (data['Rating'] > 4.0)]\n",
    "\n",
    "# Display the selected rows\n",
    "high_price_high_rating_phones.head()\n"
   ]
  },
  {
   "cell_type": "markdown",
   "id": "94e491b1",
   "metadata": {},
   "source": [
    "### *Rounding Numbers - Making Data Neat*\n",
    "Clean data is crucial for clear insights. Sometimes, this means rounding numbers to make them more readable. Let’s         round the 'Price' column to the nearest integer.\n",
    "    We can round numbers using the round function. Let's round the 'Price' column to the nearest integer"
   ]
  },
  {
   "cell_type": "code",
   "execution_count": null,
   "id": "d65ebd23",
   "metadata": {},
   "outputs": [],
   "source": [
    "# Rounding the Price column\n",
    "data['Rounded_Price'] = data['Price'].round()\n",
    "\n",
    "# Display the first few rows to see the rounded values\n",
    "print(data[['Price', 'Rounded_Price']].head())\n"
   ]
  },
  {
   "cell_type": "markdown",
   "id": "743a81c9",
   "metadata": {},
   "source": [
    "Rounding the 'Price' column makes our data cleaner and easier to interpret. We can also round other columns to specific     decimal places as needed\n",
    "    \n",
    "This rounds the 'Price' column to the nearest integer and stores it in a new column 'Rounded_Price'. We can also round     to a specific number of decimal places. For instance, rounding the 'Rating' to one decimal place."
   ]
  },
  {
   "cell_type": "code",
   "execution_count": null,
   "id": "2979512d",
   "metadata": {},
   "outputs": [],
   "source": [
    "# Rounding the Rating column to one decimal place\n",
    "data['Rounded_Rating'] = data['Rating'].round(1)\n",
    "\n",
    "# Display the first few rows to see the rounded values\n",
    "print(data[['Rating', 'Rounded_Rating']].head())\n"
   ]
  },
  {
   "cell_type": "markdown",
   "id": "f3b4ca9b",
   "metadata": {},
   "source": [
    "### *Data Aggregation - Summarizing Data*\n",
    "To gain quick insights, we can summarize our data through aggregation. For instance, let’s calculate the average price     of phones grouped by their company."
   ]
  },
  {
   "cell_type": "code",
   "execution_count": null,
   "id": "44cc883f",
   "metadata": {},
   "outputs": [],
   "source": [
    "# Aggregating data: Calculating the mean Price by company\n",
    "mean_price_by_company = data.groupby('company')['Price'].mean()\n",
    "\n",
    "# Display the aggregated data\n",
    "print(mean_price_by_company)\n"
   ]
  },
  {
   "cell_type": "markdown",
   "id": "8f8f30f5",
   "metadata": {},
   "source": [
    "Grouping by 'company' and calculating the mean 'Price' gives us an overview of how prices vary across different brands.\n",
    "    Exciting !!! Now Let's check which companies phones has the highest rating phones ."
   ]
  },
  {
   "cell_type": "code",
   "execution_count": null,
   "id": "eddaf7cc",
   "metadata": {},
   "outputs": [],
   "source": [
    "# Aggregating data: Calculating Which \n",
    "average_ratings = data.groupby('company')['Rating'].mean().sort_values(ascending=False)\n",
    "\n",
    "# Display the aggregated data\n",
    "average_ratings"
   ]
  },
  {
   "cell_type": "markdown",
   "id": "85636bad",
   "metadata": {},
   "source": [
    "### *Cleaning Data - Data Munging Techniques*\n",
    "Data isn't always perfect. It often contains missing values or duplicates that need to be addressed. Let’s start by         identifying missing values."
   ]
  },
  {
   "cell_type": "code",
   "execution_count": null,
   "id": "0e4edea0",
   "metadata": {},
   "outputs": [],
   "source": [
    "# Checking for missing values\n",
    "missing_values = data.isnull().sum()\n",
    "print(\"Missing Values:\\n\", missing_values)\n"
   ]
  },
  {
   "cell_type": "markdown",
   "id": "945f5f21",
   "metadata": {},
   "source": [
    "We see the count of missing values for each column. Now, let’s fill missing values in 'Android_version' with the mean"
   ]
  },
  {
   "cell_type": "code",
   "execution_count": null,
   "id": "623fe7d6",
   "metadata": {},
   "outputs": [],
   "source": [
    "# Filling missing values in Battery with the mean\n",
    "data['Android_version'].fillna(data['Android_version'].mean(), inplace=True)\n",
    "\n",
    "# Display the first few rows to see changes\n",
    "print(data.head())\n"
   ]
  },
  {
   "cell_type": "markdown",
   "id": "a70e837b",
   "metadata": {},
   "source": [
    "We can also remove duplicate rows to clean our data."
   ]
  },
  {
   "cell_type": "code",
   "execution_count": null,
   "id": "ab4a018e",
   "metadata": {},
   "outputs": [],
   "source": [
    "# Removing duplicates\n",
    "data_no_duplicates = data.drop_duplicates()\n",
    "\n",
    "# Display the first few rows to see changes\n",
    "print(data_no_duplicates.head())\n"
   ]
  },
  {
   "cell_type": "markdown",
   "id": "8840f1d1",
   "metadata": {},
   "source": [
    "####  Saving Our Progress - A Wise Move😌\n",
    "As we navigate through our analysis, it’s crucial to save our progress. This way, we can pick up right where we left       off. Let’s save our DataFrame to both a CSV file and a pickle file."
   ]
  },
  {
   "cell_type": "code",
   "execution_count": null,
   "id": "976ab6c7",
   "metadata": {},
   "outputs": [],
   "source": [
    "# Save DataFrame to a CSV file\n",
    "data.to_csv('saved_mobile_phone_data.csv', index=False)\n",
    "print(\"Data saved to CSV file.\")\n"
   ]
  },
  {
   "cell_type": "markdown",
   "id": "ac7e46fd",
   "metadata": {},
   "source": [
    "#### Visualizing Data - Bringing Insights to Life\n",
    "Visualization is a powerful tool to understand data trends and patterns. Let’s plot some graphs to visualize our           findings. First, we need to import the necessary library."
   ]
  },
  {
   "cell_type": "code",
   "execution_count": null,
   "id": "d7f7eab0",
   "metadata": {},
   "outputs": [],
   "source": [
    "import matplotlib.pyplot as plt\n",
    "\n",
    "# Plotting the distribution of phone prices\n",
    "plt.figure(figsize=(10, 6))\n",
    "plt.hist(data['Price'], bins=30, edgecolor='k', alpha=0.7)\n",
    "plt.title('Distribution of Phone Prices')\n",
    "plt.xlabel('Price')\n",
    "plt.ylabel('Frequency')\n",
    "plt.show()"
   ]
  },
  {
   "cell_type": "markdown",
   "id": "45e659c0",
   "metadata": {},
   "source": [
    "This histogram shows the distribution of phone prices, helping us understand the range and frequency of different price     points.🧐🧐\n",
    "\n",
    "Next, let’s plot the average price by company using a bar chart."
   ]
  },
  {
   "cell_type": "code",
   "execution_count": null,
   "id": "f7431001",
   "metadata": {},
   "outputs": [],
   "source": [
    "# Plotting average price by company\n",
    "mean_price_by_company.plot(kind='bar', figsize=(12, 8), color='skyblue')\n",
    "plt.title('Average Price by Company')\n",
    "plt.xlabel('Company')\n",
    "plt.ylabel('Average Price')\n",
    "plt.show()"
   ]
  },
  {
   "cell_type": "markdown",
   "id": "c6060301",
   "metadata": {},
   "source": [
    "#### Conclusion: Insights and Learnings\n",
    "\n",
    "    Through this journey, we’ve explored various techniques to read, clean, manipulate, and visualize data using pandas.       We’ve seen how to perform arithmetic operations, select and filter data, handle missing values, aggregate data, merge       datasets, and visualize trends.🤗\n",
    "\n",
    "    Each step has brought us closer to understanding our mobile phone dataset, enabling us to extract meaningful insights       and make informed decisions. This story-driven approach not only teaches us the technical skills but also emphasizes       the importance of clear, clean, and insightful data analysis.🫡"
   ]
  }
 ],
 "metadata": {
  "kernelspec": {
   "display_name": "Python 3 (ipykernel)",
   "language": "python",
   "name": "python3"
  },
  "language_info": {
   "codemirror_mode": {
    "name": "ipython",
    "version": 3
   },
   "file_extension": ".py",
   "mimetype": "text/x-python",
   "name": "python",
   "nbconvert_exporter": "python",
   "pygments_lexer": "ipython3",
   "version": "3.9.2"
  }
 },
 "nbformat": 4,
 "nbformat_minor": 5
}
