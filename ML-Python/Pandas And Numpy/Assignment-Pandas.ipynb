{
 "cells": [
  {
   "cell_type": "markdown",
   "id": "54e4721b",
   "metadata": {},
   "source": [
    "What are the top 5 highest-rated mobile brands?\n",
    "\n",
    "\n",
    "Steps:\n",
    "Group by Brand: Use the .groupby() function to group the data by the “company” column.\n",
    "\n",
    "Calculate Average Rating: Apply the .mean() function to find the average rating for each brand.\n",
    "\n",
    "Sort and Select Top 5: Use .sort_values() to sort these averages in descending order and pick the top 5.\n",
    "\n",
    "Display Results: Show the final list of the top 5 brands based on average rating.\n"
   ]
  },
  {
   "cell_type": "code",
   "execution_count": null,
   "id": "b024f4fc",
   "metadata": {},
   "outputs": [],
   "source": []
  },
  {
   "cell_type": "code",
   "execution_count": null,
   "id": "0498a2fd",
   "metadata": {},
   "outputs": [],
   "source": []
  },
  {
   "cell_type": "code",
   "execution_count": null,
   "id": "6e1aac62",
   "metadata": {},
   "outputs": [],
   "source": []
  },
  {
   "cell_type": "code",
   "execution_count": null,
   "id": "4f65c029",
   "metadata": {},
   "outputs": [],
   "source": []
  },
  {
   "cell_type": "code",
   "execution_count": null,
   "id": "25972ef1",
   "metadata": {},
   "outputs": [],
   "source": []
  },
  {
   "cell_type": "markdown",
   "id": "9d9453b3",
   "metadata": {},
   "source": [
    "Intermediate Question\n",
    "Q2: How does the presence of fast charging affect the average price of mobiles across different companies?\n",
    "\n",
    "\n",
    "Steps:\n",
    "Filter Data by Fast Charging: Use the fast_charging column to create two groups – mobiles with and without fast charging.\n",
    "\n",
    "Group by Company and Fast Charging: Use .groupby() on both “company” and “fast_charging” columns to categorize the data.\n",
    "\n",
    "Calculate Average Price: For each group, calculate the average “Price” using .mean().\n",
    "\n",
    "Compare Results: Compare the average prices for each company to see if there’s a trend in pricing based on the presence of fast charging."
   ]
  },
  {
   "cell_type": "code",
   "execution_count": null,
   "id": "9992000b",
   "metadata": {},
   "outputs": [],
   "source": []
  },
  {
   "cell_type": "code",
   "execution_count": null,
   "id": "7781456d",
   "metadata": {},
   "outputs": [],
   "source": []
  },
  {
   "cell_type": "code",
   "execution_count": null,
   "id": "5e013138",
   "metadata": {},
   "outputs": [],
   "source": []
  },
  {
   "cell_type": "code",
   "execution_count": null,
   "id": "bb9e51c1",
   "metadata": {},
   "outputs": [],
   "source": []
  },
  {
   "cell_type": "code",
   "execution_count": null,
   "id": "e043ffcc",
   "metadata": {},
   "outputs": [],
   "source": []
  },
  {
   "cell_type": "markdown",
   "id": "f3bcae0e",
   "metadata": {},
   "source": [
    "Expert Question\n",
    "Q3: Identify the top 3 mobile brands that offer the best performance-to-price ratio, where performance is defined by a custom score derived from 'Spec_score,' 'Processor,' and 'Battery.'\n",
    "\n",
    "Steps:\n",
    "Define a Performance Metric: Combine the “Spec_score,” “Processor,” and “Battery” columns to create a performance score. This can be a weighted sum or average. For example:\n",
    "\n",
    "text{Performance Score} = 0.5 *{Spec_score} + 0.3 *t{Processor} + 0.2 *{Battery}\n",
    "\n",
    "Add Performance-to-Price Ratio Column: Divide this performance score by the “Price” column to create a performance-to-price ratio for each mobile.\n",
    "Group by Brand and Calculate Average Ratio: Use .groupby() on the “company” column to calculate the average performance-to-price ratio for each brand.\n",
    "Sort and Identify Top 3 Brands: Sort the brands by this ratio in descending order and select the top 3 brands with the best performance-to-price ratio.\n"
   ]
  },
  {
   "cell_type": "code",
   "execution_count": null,
   "id": "fee897d4",
   "metadata": {},
   "outputs": [],
   "source": []
  },
  {
   "cell_type": "code",
   "execution_count": null,
   "id": "9126b1cf",
   "metadata": {},
   "outputs": [],
   "source": []
  },
  {
   "cell_type": "code",
   "execution_count": null,
   "id": "3d7ed7a4",
   "metadata": {},
   "outputs": [],
   "source": []
  },
  {
   "cell_type": "code",
   "execution_count": null,
   "id": "778a5f44",
   "metadata": {},
   "outputs": [],
   "source": []
  },
  {
   "cell_type": "code",
   "execution_count": null,
   "id": "02ad4812",
   "metadata": {},
   "outputs": [],
   "source": []
  }
 ],
 "metadata": {
  "kernelspec": {
   "display_name": "Python 3 (ipykernel)",
   "language": "python",
   "name": "python3"
  },
  "language_info": {
   "codemirror_mode": {
    "name": "ipython",
    "version": 3
   },
   "file_extension": ".py",
   "mimetype": "text/x-python",
   "name": "python",
   "nbconvert_exporter": "python",
   "pygments_lexer": "ipython3",
   "version": "3.9.2"
  }
 },
 "nbformat": 4,
 "nbformat_minor": 5
}
